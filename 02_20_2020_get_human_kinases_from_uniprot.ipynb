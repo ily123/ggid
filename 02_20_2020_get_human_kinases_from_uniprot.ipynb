{
 "cells": [
  {
   "cell_type": "code",
   "execution_count": 30,
   "metadata": {},
   "outputs": [],
   "source": [
    "import requests\n",
    "from bs4 import BeautifulSoup\n",
    "import re\n",
    "import pandas as pd"
   ]
  },
  {
   "cell_type": "code",
   "execution_count": 37,
   "metadata": {},
   "outputs": [],
   "source": [
    "#the list of human kinases is found at \n",
    "#https://www.uniprot.org/docs/pkinfam\n",
    "\n",
    "url = 'https://www.uniprot.org/docs/pkinfam.txt'\n",
    "r = requests.get(url)"
   ]
  },
  {
   "cell_type": "code",
   "execution_count": 39,
   "metadata": {},
   "outputs": [],
   "source": [
    "kinases = []\n",
    "if r.status_code == 200:\n",
    "    for line in r.text.splitlines():\n",
    "        if '_HUMAN' in line:\n",
    "            cap = re.findall('\\s+(.+)_HUMAN\\s+\\((.{6})', line)\n",
    "            kinases.append(cap[0])\n",
    "\n",
    "kinases = pd.DataFrame(kinases, columns=['gene_symbol', 'uniprot'])"
   ]
  },
  {
   "cell_type": "code",
   "execution_count": 43,
   "metadata": {},
   "outputs": [
    {
     "name": "stdout",
     "output_type": "stream",
     "text": [
      "512\n",
      "  gene_symbol uniprot\n",
      "0        AKT1  P31749\n",
      "1        AKT2  P31751\n",
      "2        AKT3  Q9Y243\n",
      "3       MRCKA  Q5VT25\n",
      "4       MRCKB  Q9Y5S2\n"
     ]
    }
   ],
   "source": [
    "print(len(kinases))\n",
    "print(kinases.head(5))"
   ]
  },
  {
   "cell_type": "code",
   "execution_count": 45,
   "metadata": {},
   "outputs": [],
   "source": [
    "kinases.to_csv('data/list_of_human_kinases.csv')"
   ]
  }
 ],
 "metadata": {
  "kernelspec": {
   "display_name": "Python 3",
   "language": "python",
   "name": "python3"
  },
  "language_info": {
   "codemirror_mode": {
    "name": "ipython",
    "version": 3
   },
   "file_extension": ".py",
   "mimetype": "text/x-python",
   "name": "python",
   "nbconvert_exporter": "python",
   "pygments_lexer": "ipython3",
   "version": "3.7.3"
  }
 },
 "nbformat": 4,
 "nbformat_minor": 2
}
