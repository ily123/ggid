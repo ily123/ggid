{
 "cells": [
  {
   "cell_type": "code",
   "execution_count": 2,
   "metadata": {},
   "outputs": [],
   "source": [
    "import requests\n",
    "from bs4 import BeautifulSoup\n",
    "import re\n",
    "import pandas as pd"
   ]
  },
  {
   "cell_type": "code",
   "execution_count": 4,
   "metadata": {},
   "outputs": [],
   "source": [
    "#the list of human kinases is found at \n",
    "#https://www.uniprot.org/docs/pkinfam\n",
    "\n",
    "url = 'https://www.uniprot.org/docs/pkinfam.txt'\n",
    "r = requests.get(url)"
   ]
  },
  {
   "cell_type": "code",
   "execution_count": 9,
   "metadata": {},
   "outputs": [],
   "source": [
    "kinases = []\n",
    "if r.status_code == 200:\n",
    "    for line in r.text.splitlines():\n",
    "        if '_HUMAN' in line:\n",
    "            cap = re.findall('(\\S+)\\s+(.+)_HUMAN\\s+\\((.{6})', line)\n",
    "            kinases.append(cap[0])\n",
    "\n",
    "kinases = pd.DataFrame(kinases, columns=['gene_symbol','gene_synonym', 'uniprot'])"
   ]
  },
  {
   "cell_type": "code",
   "execution_count": 10,
   "metadata": {},
   "outputs": [
    {
     "name": "stdout",
     "output_type": "stream",
     "text": [
      "513\n",
      "  gene_symbol gene_synonym uniprot\n",
      "0        AKT1         AKT1  P31749\n",
      "1        AKT2         AKT2  P31751\n",
      "2        AKT3         AKT3  Q9Y243\n",
      "3    CDC42BPA        MRCKA  Q5VT25\n",
      "4    CDC42BPB        MRCKB  Q9Y5S2\n"
     ]
    }
   ],
   "source": [
    "print(len(kinases))\n",
    "print(kinases.head(5))"
   ]
  },
  {
   "cell_type": "code",
   "execution_count": 11,
   "metadata": {},
   "outputs": [],
   "source": [
    "kinases.to_csv('data/list_of_human_kinases.csv')"
   ]
  },
  {
   "cell_type": "code",
   "execution_count": null,
   "metadata": {},
   "outputs": [],
   "source": []
  }
 ],
 "metadata": {
  "kernelspec": {
   "display_name": "Python 3",
   "language": "python",
   "name": "python3"
  },
  "language_info": {
   "codemirror_mode": {
    "name": "ipython",
    "version": 3
   },
   "file_extension": ".py",
   "mimetype": "text/x-python",
   "name": "python",
   "nbconvert_exporter": "python",
   "pygments_lexer": "ipython3",
   "version": "3.6.9"
  }
 },
 "nbformat": 4,
 "nbformat_minor": 2
}
