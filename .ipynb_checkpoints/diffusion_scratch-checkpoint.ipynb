{
 "cells": [
  {
   "cell_type": "code",
   "execution_count": 14,
   "metadata": {},
   "outputs": [],
   "source": [
    "import pickle\n",
    "from scipy import sparse\n",
    "import numpy as np\n",
    "\n",
    "from scipy.sparse.linalg import lgmres"
   ]
  },
  {
   "cell_type": "code",
   "execution_count": 3,
   "metadata": {},
   "outputs": [],
   "source": [
    "net = pickle.load(open('results/kinase_matrix.pkl', 'rb'))"
   ]
  },
  {
   "cell_type": "code",
   "execution_count": 12,
   "metadata": {},
   "outputs": [],
   "source": [
    "#\n",
    "lpp = sparse.csgraph.laplacian(net)\n",
    "diffusionParameter = 1 / float( np.max( np.sum(np.abs(lpp), axis=0) ) )\n",
    "ident = sparse.csc_matrix(np.eye(net.shape[0]))\n",
    "ps = ident + diffusionParameter*lpp"
   ]
  },
  {
   "cell_type": "code",
   "execution_count": 17,
   "metadata": {},
   "outputs": [],
   "source": [
    "y = np.zeros([net.shape[0],1])\n",
    "y[0] = 1\n",
    "result = lgmres(ps, y, maxiter=1000, atol=0.001)#, atol=0, maxiter=1e3)"
   ]
  },
  {
   "cell_type": "code",
   "execution_count": 28,
   "metadata": {},
   "outputs": [],
   "source": [
    "import importlib\n",
    "import diffusion"
   ]
  },
  {
   "cell_type": "code",
   "execution_count": 32,
   "metadata": {},
   "outputs": [],
   "source": [
    "importlib.reload(diffusion)\n",
    "dif = diffusion.Diffusion(net, 0)\n",
    "res = dif.diffuse()"
   ]
  },
  {
   "cell_type": "code",
   "execution_count": 54,
   "metadata": {},
   "outputs": [
    {
     "data": {
      "text/plain": [
       "0.9964317841157636"
      ]
     },
     "execution_count": 54,
     "metadata": {},
     "output_type": "execute_result"
    }
   ],
   "source": [
    "res[0].sum()"
   ]
  }
 ],
 "metadata": {
  "kernelspec": {
   "display_name": "Python 3",
   "language": "python",
   "name": "python3"
  },
  "language_info": {
   "codemirror_mode": {
    "name": "ipython",
    "version": 3
   },
   "file_extension": ".py",
   "mimetype": "text/x-python",
   "name": "python",
   "nbconvert_exporter": "python",
   "pygments_lexer": "ipython3",
   "version": "3.7.7"
  }
 },
 "nbformat": 4,
 "nbformat_minor": 4
}
