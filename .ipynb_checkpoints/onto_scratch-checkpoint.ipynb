{
 "cells": [
  {
   "cell_type": "code",
   "execution_count": 33,
   "metadata": {},
   "outputs": [],
   "source": [
    "import gograph\n",
    "import importlib\n",
    "import re\n",
    "import time"
   ]
  },
  {
   "cell_type": "code",
   "execution_count": 34,
   "metadata": {},
   "outputs": [
    {
     "name": "stdout",
     "output_type": "stream",
     "text": [
      "CPU times: user 1.76 s, sys: 31.6 ms, total: 1.79 s\n",
      "Wall time: 1.82 s\n"
     ]
    }
   ],
   "source": [
    "%%time\n",
    "importlib.reload(gograph)\n",
    "ontology = gograph.OBOParser('data/go-basic.obo').parse_ontology()"
   ]
  },
  {
   "cell_type": "code",
   "execution_count": 35,
   "metadata": {},
   "outputs": [],
   "source": [
    "ontology.draw_connections()"
   ]
  },
  {
   "cell_type": "code",
   "execution_count": 36,
   "metadata": {},
   "outputs": [
    {
     "data": {
      "text/plain": [
       "'GO:0000001'"
      ]
     },
     "execution_count": 36,
     "metadata": {},
     "output_type": "execute_result"
    }
   ],
   "source": [
    "list(ontology.nodes)[0]"
   ]
  },
  {
   "cell_type": "code",
   "execution_count": 37,
   "metadata": {},
   "outputs": [
    {
     "data": {
      "text/plain": [
       "{'id': 'GO:0000001',\n",
       " 'namespace': 'biological_process',\n",
       " 'definition': '\"The distribution of mitochondria, including the mitochondrial genome, into daughter cells after mitosis or meiosis, mediated by interactions between mitochondria and the cytoskeleton.\" [GOC:mcc, PMID:10873824, PMID:11389764]',\n",
       " 'is_a': ['GO:0048308 ! organelle inheritance',\n",
       "  'GO:0048311 ! mitochondrion distribution'],\n",
       " 'ancestor_ids': ['GO:0048308', 'GO:0048311'],\n",
       " 'child_ids': [],\n",
       " 'ancestors': [<gograph.GoTerm at 0x7f9f4dcc2e48>,\n",
       "  <gograph.GoTerm at 0x7f9f4dcc2eb8>],\n",
       " 'children': [],\n",
       " 'name': 'mitochondrion inheritance'}"
      ]
     },
     "execution_count": 37,
     "metadata": {},
     "output_type": "execute_result"
    }
   ],
   "source": [
    "ontology.nodes['GO:0000001'].__dict__"
   ]
  },
  {
   "cell_type": "code",
   "execution_count": 38,
   "metadata": {},
   "outputs": [
    {
     "data": {
      "text/plain": [
       "['GO:0009987',\n",
       " 'GO:0051179',\n",
       " 'GO:0051640',\n",
       " 'GO:0008150',\n",
       " 'GO:0051646',\n",
       " 'GO:0048308',\n",
       " 'GO:0051641',\n",
       " 'GO:0048311',\n",
       " 'GO:0007005',\n",
       " 'GO:0071840',\n",
       " 'GO:0006996',\n",
       " 'GO:0016043']"
      ]
     },
     "execution_count": 38,
     "metadata": {},
     "output_type": "execute_result"
    }
   ],
   "source": [
    "ontology.get_full_ancestry('GO:0000001')"
   ]
  },
  {
   "cell_type": "code",
   "execution_count": 9,
   "metadata": {},
   "outputs": [
    {
     "name": "stdout",
     "output_type": "stream",
     "text": [
      "CPU times: user 1.9 s, sys: 15.6 ms, total: 1.91 s\n",
      "Wall time: 1.91 s\n"
     ]
    }
   ],
   "source": [
    "%%time \n",
    "importlib.reload(gograph)\n",
    "\n",
    "obo_fp = 'data/go-basic.obo'\n",
    "obo_file = open(obo_fp, 'r')\n",
    "\n",
    "def parse_ancestor_id(is_a):\n",
    "    \"\"\"\n",
    "    Extracts go term ids from 'is_a' and 'relatioship' field\n",
    "    \"\"\"\n",
    "    capture = re.search('(GO:\\d{7})\\s!\\s', is_a)\n",
    "    if capture:\n",
    "        return capture.group(1)\n",
    "\n",
    "go_list = {}\n",
    "blank_template = {'id': None, 'name': None, 'namespace': None,\n",
    "                  'def': None, 'is_a': []}\n",
    "\n",
    "go_dag = gograph.GoGraph()\n",
    "term_flag = False\n",
    "for line in obo_file:\n",
    "    capture = re.search('(.+):\\s(.+)\\n', line)\n",
    "    if line == '[Term]\\n':\n",
    "        term_flag = True\n",
    "    elif line == '\\n':\n",
    "        term_flag = False\n",
    "        \n",
    "    if capture and term_flag:\n",
    "        name = capture.group(1)\n",
    "        content = capture.group(2)\n",
    "        if name == 'id':\n",
    "            go_term = gograph.GoTerm(id_=content)\n",
    "            go_dag.add_node(go_term) # push term into tree\n",
    "        elif name == 'is_a' or name == 'relationship':\n",
    "            go_term.is_a.append(content)\n",
    "            go_term.ancestor_ids.append(parse_ancestor_id(content))\n",
    "        elif name == 'name':\n",
    "            go_term.name = content\n",
    "        elif name == 'namespace':\n",
    "            go_term.namespace = content\n",
    "        elif name == 'def':\n",
    "            go_term.definition = content\n",
    "\n",
    "obo_file.close()"
   ]
  },
  {
   "cell_type": "code",
   "execution_count": null,
   "metadata": {},
   "outputs": [],
   "source": [
    "go_dag.nodes['GO:0000015'].__dict__"
   ]
  },
  {
   "cell_type": "code",
   "execution_count": null,
   "metadata": {},
   "outputs": [],
   "source": [
    "go_dag.draw_connections()"
   ]
  },
  {
   "cell_type": "code",
   "execution_count": null,
   "metadata": {},
   "outputs": [],
   "source": [
    "t0 = time.time()\n",
    "h = {}\n",
    "\n",
    "i = 0\n",
    "for node in go_dag.nodes.values():\n",
    "    anc = traverse3(node)\n",
    "    h[node.id] = list(set(anc))\n",
    "    #i = i + 1\n",
    "    #if i % 1000 == 0 or i == len(go_dag.nodes):\n",
    "    #   bar = '*' * (i//1000)\n",
    "    #    print(bar, end='\\r')\n",
    "        #print(f'Progress {i}/{len(go_dag.nodes)} done', end='\\r')\n",
    "print()\n",
    "print('Wall time: ', time.time()-t0)\n",
    "#['GO:0000001'].ancestors"
   ]
  },
  {
   "cell_type": "code",
   "execution_count": null,
   "metadata": {},
   "outputs": [],
   "source": [
    "t0 = time.time()\n",
    "h = {}\n",
    "\n",
    "i = 0\n",
    "for node in go_dag.nodes.keys():\n",
    "    anc = traverse4(node)\n",
    "    h[node] = list(set(anc))\n",
    "    #i = i + 1\n",
    "    #if i % 1000 == 0 or i == len(go_dag.nodes):\n",
    "    #   bar = '*' * (i//1000)\n",
    "    #    print(bar, end='\\r')\n",
    "        #print(f'Progress {i}/{len(go_dag.nodes)} done', end='\\r')\n",
    "print()\n",
    "print('Wall time: ', time.time()-t0)\n",
    "#['GO:0000001'].ancestors"
   ]
  },
  {
   "cell_type": "code",
   "execution_count": null,
   "metadata": {},
   "outputs": [],
   "source": [
    "t0 = time.time()\n",
    "def traverse2(term):\n",
    "    all_ancestors = []\n",
    "    if term.ancestors == []:\n",
    "        all_ancestors.append(term.id)\n",
    "    else:\n",
    "        all_ancestors.append(term.id)\n",
    "        for t in term.ancestors:\n",
    "            all_ancestors.extend(traverse2(t))\n",
    "    return all_ancestors\n",
    "        \n",
    "    \n",
    "a = traverse2(go_dag.nodes['GO:0000001'])\n",
    "print(time.time()-t0)\n",
    "print(a)\n",
    "print(len(a))\n",
    "print(len(set(a)))"
   ]
  },
  {
   "cell_type": "code",
   "execution_count": null,
   "metadata": {},
   "outputs": [],
   "source": [
    "t0 = time.time()\n",
    "def traverse3(term):\n",
    "    all_ancestors = [term.id]\n",
    "    if term.ancestors != []:\n",
    "        for t in term.ancestors:\n",
    "            all_ancestors.extend(traverse3(t))\n",
    "    return all_ancestors\n",
    "        \n",
    "b = traverse3(go_dag.nodes['GO:0000001'])\n",
    "print(time.time()-t0)\n",
    "\n",
    "print(b)\n",
    "print(len(b))\n",
    "print(len(set(b)))"
   ]
  },
  {
   "cell_type": "code",
   "execution_count": null,
   "metadata": {},
   "outputs": [],
   "source": [
    "def traverse4(node_id):\n",
    "    \"\"\"\n",
    "    Traverse GO graph from given node to root\n",
    "\n",
    "    Attributes:\n",
    "        node_id : str\n",
    "            GO term id of node (ex: 'GO:0000001')\n",
    "    Return:\n",
    "        ancestors : list\n",
    "            list of acestor GO term ids\n",
    "\n",
    "    Note:\n",
    "        The list of ancestor ids will have duplicates, because\n",
    "        in the GO ontology children can have multiple parents and\n",
    "        so there are multiple paths leading to the root.\n",
    "\n",
    "        For example:\n",
    "\n",
    "                /C\\\n",
    "            A--B   F--root\n",
    "                \\D/\n",
    "\n",
    "        Calling traverse(A) will return\n",
    "            [A, B, C, F, root, D, F, root]\n",
    "\n",
    "    \"\"\"\n",
    "    ancestors = []\n",
    "\n",
    "    #f go_dag.nodes[node_id].ancestors == []:\n",
    "    #   return ancestors\n",
    "    if go_dag.nodes[node_id].ancestors != []:\n",
    "        for ancestor in go_dag.nodes[node_id].ancestors:\n",
    "            ancestors.append(ancestor.id)\n",
    "            ancestors.extend(traverse4(ancestor.id))\n",
    "\n",
    "    return ancestors\n",
    "\n",
    "t0 = time.time()\n",
    "b = traverse4('GO:0000001')\n",
    "print(time.time()-t0)\n",
    "print(b)\n",
    "print(len(b))\n",
    "print(len(set(b)))"
   ]
  },
  {
   "cell_type": "code",
   "execution_count": null,
   "metadata": {},
   "outputs": [],
   "source": [
    "from progress.bar import Bar"
   ]
  },
  {
   "cell_type": "code",
   "execution_count": null,
   "metadata": {},
   "outputs": [],
   "source": [
    "bar = Bar('Processing', max=20)\n",
    "for i in range(20):\n",
    "    # Do some work\n",
    "    bar.next()\n",
    "bar.finish()"
   ]
  },
  {
   "cell_type": "code",
   "execution_count": null,
   "metadata": {},
   "outputs": [],
   "source": [
    "# Print iterations progress\n",
    "def printProgressBar (iteration, total, prefix = '', suffix = '', decimals = 1, length = 100, fill = '█', printEnd = \"\\r\"):\n",
    "    \"\"\"\n",
    "    Call in a loop to create terminal progress bar\n",
    "    @params:\n",
    "        iteration   - Required  : current iteration (Int)\n",
    "        total       - Required  : total iterations (Int)\n",
    "        prefix      - Optional  : prefix string (Str)\n",
    "        suffix      - Optional  : suffix string (Str)\n",
    "        decimals    - Optional  : positive number of decimals in percent complete (Int)\n",
    "        length      - Optional  : character length of bar (Int)\n",
    "        fill        - Optional  : bar fill character (Str)\n",
    "        printEnd    - Optional  : end character (e.g. \"\\r\", \"\\r\\n\") (Str)\n",
    "    \n",
    "    author : https://stackoverflow.com/a/34325723\n",
    "    \"\"\"\n",
    "    percent = (\"{0:.\" + str(decimals) + \"f}\").format(100 * (iteration / float(total)))\n",
    "    filledLength = int(length * iteration // total)\n",
    "    bar = fill * filledLength + '-' * (length - filledLength)\n",
    "    print('%s |%s| %s%% %s' % (prefix, bar, percent, suffix), end = printEnd)\n",
    "    # Print New Line on Complete\n",
    "    if iteration == total: \n",
    "        print()"
   ]
  },
  {
   "cell_type": "code",
   "execution_count": null,
   "metadata": {},
   "outputs": [],
   "source": [
    "import time\n",
    "\n",
    "# A List of Items\n",
    "items = list(range(0, 57))\n",
    "l = len(items)\n",
    "\n",
    "# Initial call to print 0% progress\n",
    "printProgressBar(0, l, prefix = 'Progress:', suffix = 'Complete', length = 50)\n",
    "for i, item in enumerate(items):\n",
    "    # Do stuff...\n",
    "    time.sleep(0.1)\n",
    "    # Update Progress Bar\n",
    "    printProgressBar(i + 1, l, prefix = 'Progress:', suffix = 'Complete', length = 50)"
   ]
  },
  {
   "cell_type": "code",
   "execution_count": null,
   "metadata": {},
   "outputs": [],
   "source": [
    "10/5"
   ]
  },
  {
   "cell_type": "code",
   "execution_count": null,
   "metadata": {},
   "outputs": [],
   "source": []
  },
  {
   "cell_type": "code",
   "execution_count": null,
   "metadata": {},
   "outputs": [],
   "source": [
    "1+1"
   ]
  },
  {
   "cell_type": "code",
   "execution_count": null,
   "metadata": {},
   "outputs": [],
   "source": [
    "import numpy as np"
   ]
  },
  {
   "cell_type": "code",
   "execution_count": null,
   "metadata": {},
   "outputs": [],
   "source": [
    "np.array([[1,1],[1,1]]) * np.array([[10],[2]])"
   ]
  },
  {
   "cell_type": "code",
   "execution_count": null,
   "metadata": {},
   "outputs": [],
   "source": [
    "2+2"
   ]
  },
  {
   "cell_type": "code",
   "execution_count": null,
   "metadata": {},
   "outputs": [],
   "source": []
  }
 ],
 "metadata": {
  "kernelspec": {
   "display_name": "Python 3",
   "language": "python",
   "name": "python3"
  },
  "language_info": {
   "codemirror_mode": {
    "name": "ipython",
    "version": 3
   },
   "file_extension": ".py",
   "mimetype": "text/x-python",
   "name": "python",
   "nbconvert_exporter": "python",
   "pygments_lexer": "ipython3",
   "version": "3.7.3"
  }
 },
 "nbformat": 4,
 "nbformat_minor": 2
}
