{
 "cells": [
  {
   "cell_type": "code",
   "execution_count": 1,
   "metadata": {},
   "outputs": [],
   "source": [
    "import pandas as pd\n",
    "import numpy as np\n",
    "import matplotlib.pyplot as plt\n",
    "\n"
   ]
  },
  {
   "cell_type": "code",
   "execution_count": 10,
   "metadata": {},
   "outputs": [],
   "source": [
    "fp = 'data/goa_human.gaf'"
   ]
  },
  {
   "cell_type": "code",
   "execution_count": 11,
   "metadata": {},
   "outputs": [],
   "source": [
    "header = ['DB',\n",
    "          'DB_Object_ID',\n",
    "          'DB_Object_Symbol',\n",
    "          'Qualifier',\n",
    "          'GO_ID',\n",
    "          'DB_Reference',\n",
    "          'Evidence_Code',\n",
    "          'With_or_From',\n",
    "          'Aspect',\n",
    "          'DB_Object_Name',\n",
    "          'DB_Object_Synonym',\n",
    "          'DB_Object_Type',\n",
    "          'Taxon',\n",
    "          'Date',\n",
    "          'Assigned_By',\n",
    "          'Annotation_Extension',\n",
    "          'Gene_Product_Form_ID']"
   ]
  },
  {
   "cell_type": "code",
   "execution_count": 15,
   "metadata": {},
   "outputs": [],
   "source": [
    "t = pd.read_csv(fp, header=None, sep='\\t', comment='!')"
   ]
  },
  {
   "cell_type": "code",
   "execution_count": 16,
   "metadata": {},
   "outputs": [],
   "source": [
    "t.columns = header"
   ]
  },
  {
   "cell_type": "code",
   "execution_count": 18,
   "metadata": {},
   "outputs": [
    {
     "data": {
      "text/plain": [
       "DB                        0.000000\n",
       "DB_Object_ID              0.000000\n",
       "DB_Object_Symbol          0.000000\n",
       "Qualifier                99.161823\n",
       "GO_ID                     0.000000\n",
       "DB_Reference              0.000000\n",
       "Evidence_Code             0.000000\n",
       "With_or_From             45.393561\n",
       "Aspect                    0.000000\n",
       "DB_Object_Name            0.000000\n",
       "DB_Object_Synonym         0.047036\n",
       "DB_Object_Type            0.000000\n",
       "Taxon                     0.000000\n",
       "Date                      0.000000\n",
       "Assigned_By               0.000000\n",
       "Annotation_Extension     94.763213\n",
       "Gene_Product_Form_ID    100.000000\n",
       "dtype: float64"
      ]
     },
     "execution_count": 18,
     "metadata": {},
     "output_type": "execute_result"
    }
   ],
   "source": [
    "100 * t.isnull().sum() / len(t)"
   ]
  },
  {
   "cell_type": "code",
   "execution_count": 19,
   "metadata": {},
   "outputs": [
    {
     "data": {
      "text/plain": [
       "Text(0.5, 1.0, '4 of the top 5 sources of annotations are experimental')"
      ]
     },
     "execution_count": 19,
     "metadata": {},
     "output_type": "execute_result"
    },
    {
     "data": {
      "image/png": "[encoded data removed]",
      "text/plain": [
       "<Figure size 864x288 with 1 Axes>"
      ]
     },
     "metadata": {
      "needs_background": "light"
     },
     "output_type": "display_data"
    }
   ],
   "source": [
    "ax = t.Evidence_Code.value_counts().plot.bar(y='Evidence_Code', x='index', figsize=(12,4))\n",
    "ax.set_xticklabels(t.Evidence_Code.value_counts().index, rotation=0);\n",
    "\n",
    "ax.set_title('4 of the top 5 sources of annotations are experimental')\n",
    "\n",
    "# TAS - Traceable Author Statement\n",
    "# IPI - Inferred from Physical Interaction\n",
    "# IDA - Inferred from Direct Assay\n",
    "# IEA - Inferred from Electronic Annotation\n",
    "# IBA - Inferred from Biological aspect of Ancestor\n",
    "#\n",
    "# http://geneontology.org/docs/guide-go-evidence-codes/\n",
    "\n"
   ]
  },
  {
   "cell_type": "code",
   "execution_count": 20,
   "metadata": {},
   "outputs": [
    {
     "data": {
      "text/plain": [
       "TP53      909\n",
       "GRB2      693\n",
       "EGFR      692\n",
       "UBC       613\n",
       "CTNNB1    606\n",
       "RPS27A    559\n",
       "UBB       549\n",
       "UBA52     544\n",
       "LRRK2     504\n",
       "SRC       470\n",
       "Name: DB_Object_Symbol, dtype: int64"
      ]
     },
     "execution_count": 20,
     "metadata": {},
     "output_type": "execute_result"
    }
   ],
   "source": [
    "protein_num_anno = t.DB_Object_Symbol.value_counts()\n",
    "protein_num_anno.head(10)"
   ]
  },
  {
   "cell_type": "code",
   "execution_count": 60,
   "metadata": {},
   "outputs": [
    {
     "data": {
      "text/plain": [
       "0.631578947368421"
      ]
     },
     "execution_count": 60,
     "metadata": {},
     "output_type": "execute_result"
    }
   ],
   "source": [
    "12/19"
   ]
  },
  {
   "cell_type": "code",
   "execution_count": 24,
   "metadata": {},
   "outputs": [
    {
     "data": {
      "text/plain": [
       "Text(0, 0.5, 'Number proteins')"
      ]
     },
     "execution_count": 24,
     "metadata": {},
     "output_type": "execute_result"
    },
    {
     "data": {
      "image/png": "[encoded data removed]",
      "text/plain": [
       "<Figure size 432x288 with 1 Axes>"
      ]
     },
     "metadata": {
      "needs_background": "light"
     },
     "output_type": "display_data"
    }
   ],
   "source": [
    "plt.hist(protein_num_anno, list(range(0,200,10)))\n",
    "plt.xticks(list(range(0,200,20)))\n",
    "plt.title('63% proteins have fewer than 20 annotations')\n",
    "plt.xlabel('Number assigned annotations')\n",
    "plt.ylabel('Number proteins')\n",
    "#plt.bar(list(range(0,binned.count(),1)), binned)"
   ]
  },
  {
   "cell_type": "code",
   "execution_count": 27,
   "metadata": {},
   "outputs": [
    {
     "data": {
      "text/plain": [
       "[0, 10)     36.826682\n",
       "[10, 20)    26.463850\n",
       "[20, 30)    14.801002\n",
       "[30, 40)     8.354201\n",
       "[40, 50)     5.274655\n",
       "[50, 60)     3.361927\n",
       "[60, 70)     2.088550\n",
       "[70, 80)     1.662316\n",
       "[80, 90)     1.166818\n",
       "Name: DB_Object_Symbol, dtype: float64"
      ]
     },
     "execution_count": 27,
     "metadata": {},
     "output_type": "execute_result"
    }
   ],
   "source": [
    "binned = pd.cut(protein_num_anno,\n",
    "                list(range(0,100,10)),\n",
    "                right=False).value_counts()\n",
    "100 * binned/sum(binned)"
   ]
  },
  {
   "cell_type": "code",
   "execution_count": null,
   "metadata": {},
   "outputs": [],
   "source": []
  }
 ],
 "metadata": {
  "kernelspec": {
   "display_name": "Python 3",
   "language": "python",
   "name": "python3"
  },
  "language_info": {
   "codemirror_mode": {
    "name": "ipython",
    "version": 3
   },
   "file_extension": ".py",
   "mimetype": "text/x-python",
   "name": "python",
   "nbconvert_exporter": "python",
   "pygments_lexer": "ipython3",
   "version": "3.7.3"
  }
 },
 "nbformat": 4,
 "nbformat_minor": 2
}
