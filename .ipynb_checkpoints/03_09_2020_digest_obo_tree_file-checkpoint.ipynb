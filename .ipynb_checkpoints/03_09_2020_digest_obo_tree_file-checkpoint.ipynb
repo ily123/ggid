{
 "cells": [
  {
   "cell_type": "markdown",
   "metadata": {},
   "source": [
    "### \n",
    "\n",
    "In this nb, we create a class to contain GO's go term tree (the term ontology)."
   ]
  },
  {
   "cell_type": "code",
   "execution_count": 1,
   "metadata": {},
   "outputs": [],
   "source": [
    "import os.path\n",
    "import wget\n",
    "import pandas as pd\n",
    "import networkx as nx\n",
    "import matplotlib.pyplot as plt\n",
    "import numpy as np\n",
    "import re"
   ]
  },
  {
   "cell_type": "code",
   "execution_count": 2,
   "metadata": {},
   "outputs": [],
   "source": [
    "obo_url = 'http://current.geneontology.org/ontology/go-basic.obo'\n",
    "obo_fp = 'data/go-basic.obo'\n",
    "if not os.path.exists(obo_fp):\n",
    "    wget.download(obo_url, obo_fp)\n",
    "    print('downloaded %s' % obo_url)"
   ]
  },
  {
   "cell_type": "code",
   "execution_count": 16,
   "metadata": {},
   "outputs": [
    {
     "name": "stdout",
     "output_type": "stream",
     "text": [
      "{'features': {'id': 'GO:0000020', 'name': 'obsolete negative regulation of recombination within rDNA repeats', 'namespace': 'biological_process', 'def': '\"OBSOLETE. Any process that stops, prevents, or reduces the frequency, rate or extent of genetic recombination within the DNA of the genes coding for ribosomal RNA.\" [GOC:go_curators, ISBN:0198506732]', 'comment': 'This term was made obsolete because it describes a substrate-specific process.', 'synonym': '\"negative regulation of recombination within rDNA repeats\" EXACT []', 'is_obsolete': 'true', 'consider': 'GO:0045950'}}\n"
     ]
    }
   ],
   "source": [
    "#%%writefile example.txt\n",
    "\n",
    "obo_file = open(obo_fp, 'r')\n",
    "c=0\n",
    "\n",
    "class Term():\n",
    "    \n",
    "    def __init__(self):\n",
    "        self.features = {}\n",
    "        \n",
    "    def add_feature(self, feature_name, content):\n",
    "        if feature_name in self.features.keys():\n",
    "            #if feature already exists, convert it to list and append new entry\n",
    "            temp = self.features[feature_name]\n",
    "            self.features[feature_name] = [temp]\n",
    "            self.features[feature_name].append(content)\n",
    "        else:\n",
    "            #add new feature to dict\n",
    "            self.features[feature] = content\n",
    "\n",
    "class Tree():\n",
    "    \n",
    "    def __init__(self):\n",
    "        self.terms = []\n",
    "        \n",
    "    def add_term(self, term):\n",
    "        self.terms.append(term)\n",
    "        \n",
    "    \n",
    "    \n",
    "#GeneOntology()\n",
    "term = None\n",
    "new_tree = Tree()\n",
    "c = 0\n",
    "for line in obo_file:\n",
    "    capture = re.search('(.+):\\s(.+)\\n', line)\n",
    "    #print(line.rstrip())\n",
    "    if capture:\n",
    "        feature = capture.group(1)\n",
    "        content = capture.group(2)\n",
    "        if feature=='id':\n",
    "            term = Term() #initialize empty term\n",
    "            term.add_feature(feature, content)\n",
    "        elif term:\n",
    "            term.add_feature(feature, content)\n",
    "    c+=1\n",
    "    if c==200:\n",
    "        print(term.__dict__)\n",
    "        break\n",
    "obo_file.close()\n",
    "#print(c)\n",
    "#print(term.__dict__)"
   ]
  },
  {
   "cell_type": "code",
   "execution_count": 4,
   "metadata": {},
   "outputs": [],
   "source": [
    "class TermOntology:\n",
    "    '''\n",
    "    '''\n",
    "    def __init__(self, term):\n",
    "        self.payload = term\n",
    "        self.ancestors = []\n",
    "        \n",
    "    def add_ancestor(self, ancestor):\n",
    "        self.ancestors.append(TermOntology(ancestor))\n",
    "            \n",
    "    def get_term(self):\n",
    "        return self.term\n",
    "    \n",
    "    def get_ancestors(self):\n",
    "        return self.ancestors\n",
    "    \n",
    "    def traverse(self):\n",
    "        print(self.payload)\n",
    "        if self.ancestors != []:\n",
    "            for ancestor in self.ancestors:\n",
    "                ancestor.traverse()\n",
    "    "
   ]
  },
  {
   "cell_type": "code",
   "execution_count": 5,
   "metadata": {},
   "outputs": [
    {
     "name": "stdout",
     "output_type": "stream",
     "text": [
      "GO2\n",
      "[<__main__.TermOntology object at 0x7f8d55a27ba8>]\n"
     ]
    }
   ],
   "source": [
    "test = TermOntology('GO2')\n",
    "print(test.payload)\n",
    "test.add_ancestor('GO1')\n",
    "print(test.get_ancestors())\n",
    "\n",
    "#print(dir(test))\n",
    "#print(test.__dict__)"
   ]
  },
  {
   "cell_type": "code",
   "execution_count": 6,
   "metadata": {},
   "outputs": [
    {
     "ename": "AttributeError",
     "evalue": "'TermOntology' object has no attribute 'add_node'",
     "output_type": "error",
     "traceback": [
      "\u001b[0;31m---------------------------------------------------------------------------\u001b[0m",
      "\u001b[0;31mAttributeError\u001b[0m                            Traceback (most recent call last)",
      "\u001b[0;32m<ipython-input-6-e778ea96ef20>\u001b[0m in \u001b[0;36m<module>\u001b[0;34m\u001b[0m\n\u001b[1;32m      1\u001b[0m \u001b[0mtree\u001b[0m \u001b[0;34m=\u001b[0m \u001b[0mTermOntology\u001b[0m\u001b[0;34m(\u001b[0m\u001b[0;34m'A'\u001b[0m\u001b[0;34m)\u001b[0m\u001b[0;34m\u001b[0m\u001b[0;34m\u001b[0m\u001b[0m\n\u001b[0;32m----> 2\u001b[0;31m \u001b[0mtree\u001b[0m\u001b[0;34m.\u001b[0m\u001b[0madd_node\u001b[0m\u001b[0;34m(\u001b[0m\u001b[0mparent\u001b[0m\u001b[0;34m,\u001b[0m \u001b[0mchild\u001b[0m\u001b[0;34m)\u001b[0m\u001b[0;34m\u001b[0m\u001b[0;34m\u001b[0m\u001b[0m\n\u001b[0m",
      "\u001b[0;31mAttributeError\u001b[0m: 'TermOntology' object has no attribute 'add_node'"
     ]
    }
   ],
   "source": [
    "tree = TermOntology('A')\n",
    "tree.add_node(parent, child)\n"
   ]
  },
  {
   "cell_type": "code",
   "execution_count": 7,
   "metadata": {},
   "outputs": [
    {
     "name": "stdout",
     "output_type": "stream",
     "text": [
      "hi\n",
      "hi2\n",
      "hi\n",
      "hi2\n",
      "hi\n",
      "hi0\n",
      "None\n",
      "[<__main__.TermOntology object at 0x7f8d555f16d8>, <__main__.TermOntology object at 0x7f8d555f1710>]\n"
     ]
    }
   ],
   "source": [
    "# A <= B <= C\n",
    "arr0 = {'B':TermOntology('B'),'A':TermOntology('A'),'C':TermOntology('C')}\n",
    "\n",
    "children = {'C':'B','B':'A'}\n",
    "\n",
    "for p,c in children.items():\n",
    "    parent_node = arr0[p]\n",
    "    child_node = arr0[c]\n",
    "    parent_node.ancestors = child_node\n",
    "\n",
    "ll = []\n",
    "def get_all_ancestors(tree):\n",
    "    print('hi')\n",
    "    if tree.ancestors == []:\n",
    "        print(\"hi0\")\n",
    "        return ll\n",
    "    else:\n",
    "        print(\"hi2\")\n",
    "        ll.append(tree.ancestors)\n",
    "        get_all_ancestors(tree.ancestors)\n",
    "    \n",
    "print(get_all_ancestors(arr0['C']))\n",
    "print(ll)"
   ]
  },
  {
   "cell_type": "code",
   "execution_count": 8,
   "metadata": {},
   "outputs": [],
   "source": [
    "###0: initialize tree with first node\n",
    "###1: check if acestor nodes in tree? yes - append, no - keep for later?\n",
    "###2: \n",
    "\n",
    "\n",
    "###OR\n",
    "\n",
    "# iterate over flat file once and create a hash of nodes\n",
    "# nodes[id] = node_with_id\n",
    "# iterate over nodes, and point them to each other:\n",
    "# for node in nodes.keys:\n",
    "#   node.ancestors = nodes[node.term.ancestor_ids]\n",
    "#\n",
    "#\n"
   ]
  },
  {
   "cell_type": "code",
   "execution_count": 9,
   "metadata": {},
   "outputs": [],
   "source": [
    "a = list(range(1,100000))"
   ]
  },
  {
   "cell_type": "code",
   "execution_count": 10,
   "metadata": {},
   "outputs": [
    {
     "data": {
      "text/plain": [
       "array([ 0.        ,  0.69314718,  1.09861229, ..., 11.51289546,\n",
       "       11.51290546, 11.51291546])"
      ]
     },
     "execution_count": 10,
     "metadata": {},
     "output_type": "execute_result"
    }
   ],
   "source": [
    "np.log(a)"
   ]
  },
  {
   "cell_type": "code",
   "execution_count": null,
   "metadata": {},
   "outputs": [],
   "source": []
  },
  {
   "cell_type": "code",
   "execution_count": null,
   "metadata": {},
   "outputs": [],
   "source": []
  },
  {
   "cell_type": "code",
   "execution_count": 11,
   "metadata": {},
   "outputs": [],
   "source": [
    "df = pd.DataFrame({ 'from':['D', 'A', 'B', 'C','A'], 'to':['A', 'D', 'A', 'E','C']})\n"
   ]
  },
  {
   "cell_type": "code",
   "execution_count": 12,
   "metadata": {},
   "outputs": [],
   "source": [
    "#df = pd.DataFrame({ 'from':['D'], 'to':['A']})\n"
   ]
  },
  {
   "cell_type": "code",
   "execution_count": 13,
   "metadata": {},
   "outputs": [
    {
     "name": "stderr",
     "output_type": "stream",
     "text": [
      "/home/ubuntu/anaconda3/lib/python3.7/site-packages/networkx/drawing/nx_pylab.py:579: MatplotlibDeprecationWarning: \n",
      "The iterable function was deprecated in Matplotlib 3.1 and will be removed in 3.3. Use np.iterable instead.\n",
      "  if not cb.iterable(width):\n",
      "/home/ubuntu/anaconda3/lib/python3.7/site-packages/networkx/drawing/nx_pylab.py:676: MatplotlibDeprecationWarning: \n",
      "The iterable function was deprecated in Matplotlib 3.1 and will be removed in 3.3. Use np.iterable instead.\n",
      "  if cb.iterable(node_size):  # many node sizes\n"
     ]
    },
    {
     "data": {
      "image/png": "[encoded data removed]",
      "text/plain": [
       "<Figure size 432x288 with 1 Axes>"
      ]
     },
     "metadata": {},
     "output_type": "display_data"
    }
   ],
   "source": [
    "# Build your graph. Note that we use the DiGraph function to create the graph!\n",
    "G=nx.from_pandas_edgelist(df, 'from', 'to', create_using=nx.DiGraph() )\n",
    " \n",
    "# Make the graph\n",
    "#nx.draw(G, with_labels=True, node_size=1500, alpha=0.3, arrows=True)\n",
    "\n",
    "posx = {'A':np.array([1,1]), 'D':np.array([0,0])}\n",
    "nx.draw(G, with_labels=True)\n",
    "plt.show()\n",
    "\n"
   ]
  },
  {
   "cell_type": "code",
   "execution_count": 7,
   "metadata": {},
   "outputs": [],
   "source": [
    "pos=nx.shell_layout(G)"
   ]
  },
  {
   "cell_type": "code",
   "execution_count": 8,
   "metadata": {},
   "outputs": [
    {
     "data": {
      "text/plain": [
       "{'D': array([1.00000000e+00, 2.38418583e-08]),\n",
       " 'A': array([0.30901697, 0.95105654]),\n",
       " 'B': array([-0.80901706,  0.58778518]),\n",
       " 'C': array([-0.80901694, -0.58778536]),\n",
       " 'E': array([ 0.30901712, -0.95105648])}"
      ]
     },
     "execution_count": 8,
     "metadata": {},
     "output_type": "execute_result"
    }
   ],
   "source": [
    "pos"
   ]
  },
  {
   "cell_type": "code",
   "execution_count": 9,
   "metadata": {},
   "outputs": [
    {
     "data": {
      "text/plain": [
       "array([0, 0])"
      ]
     },
     "execution_count": 9,
     "metadata": {},
     "output_type": "execute_result"
    }
   ],
   "source": [
    "np.array([0,0])"
   ]
  },
  {
   "cell_type": "code",
   "execution_count": 119,
   "metadata": {},
   "outputs": [
    {
     "name": "stdout",
     "output_type": "stream",
     "text": [
      "================================================================================\n",
      "Harry [harry]\n",
      "\t Jane [jane]\n",
      "\t\t Joe [joe]\n",
      "\t\t Diane [diane]\n",
      "\t\t\t George [george]\n",
      "\t\t\t\t Jill [jill]\n",
      "\t\t\t\t\t Carol [carol]\n",
      "\t\t\t Mary [mary]\n",
      "\t\t Mark [mark]\n",
      "\t Bill [bill]\n",
      "\t\t Grace [grace]\n",
      "================================================================================\n",
      "harry\n",
      "jane\n",
      "bill\n",
      "joe\n",
      "diane\n",
      "mark\n",
      "grace\n",
      "george\n",
      "mary\n",
      "jill\n",
      "carol\n",
      "================================================================================\n"
     ]
    }
   ],
   "source": [
    "import uuid\n",
    "\n",
    "def sanitize_id(id):\n",
    "    return id.strip().replace(\" \", \"\")\n",
    "\n",
    "(_ADD, _DELETE, _INSERT) = range(3)\n",
    "(_ROOT, _DEPTH, _WIDTH) = range(3)\n",
    "\n",
    "class Node:\n",
    "\n",
    "    def __init__(self, name, identifier=None, expanded=True):\n",
    "        self.__identifier = (str(uuid.uuid1()) if identifier is None else\n",
    "                sanitize_id(str(identifier)))\n",
    "        self.name = name\n",
    "        self.expanded = expanded\n",
    "        self.__bpointer = None\n",
    "        self.__fpointer = []\n",
    "\n",
    "    @property\n",
    "    def identifier(self):\n",
    "        return self.__identifier\n",
    "\n",
    "    @property\n",
    "    def bpointer(self):\n",
    "        return self.__bpointer\n",
    "\n",
    "    @bpointer.setter\n",
    "    def bpointer(self, value):\n",
    "        if value is not None:\n",
    "            self.__bpointer = sanitize_id(value)\n",
    "\n",
    "    @property\n",
    "    def fpointer(self):\n",
    "        return self.__fpointer\n",
    "\n",
    "    def update_fpointer(self, identifier, mode=_ADD):\n",
    "        if mode is _ADD:\n",
    "            self.__fpointer.append(sanitize_id(identifier))\n",
    "        elif mode is _DELETE:\n",
    "            self.__fpointer.remove(sanitize_id(identifier))\n",
    "        elif mode is _INSERT:\n",
    "            self.__fpointer = [sanitize_id(identifier)]\n",
    "\n",
    "class Tree:\n",
    "\n",
    "    def __init__(self):\n",
    "        self.nodes = []\n",
    "\n",
    "    def get_index(self, position):\n",
    "        for index, node in enumerate(self.nodes):\n",
    "            if node.identifier == position:\n",
    "                break\n",
    "        return index\n",
    "\n",
    "    def create_node(self, name, identifier=None, parent=None):\n",
    "\n",
    "        node = Node(name, identifier)\n",
    "        self.nodes.append(node)\n",
    "        self.__update_fpointer(parent, node.identifier, _ADD)\n",
    "        node.bpointer = parent\n",
    "        return node\n",
    "\n",
    "    def show(self, position, level=_ROOT):\n",
    "        queue = self[position].fpointer\n",
    "        if level == _ROOT:\n",
    "            print(\"{0} [{1}]\".format(self[position].name, self[position].identifier))\n",
    "        else:\n",
    "            print(\"\\t\"*level, \"{0} [{1}]\".format(self[position].name, self[position].identifier))\n",
    "        if self[position].expanded:\n",
    "            level += 1\n",
    "            for element in queue:\n",
    "                self.show(element, level)  # recursive call\n",
    "\n",
    "    def expand_tree(self, position, mode=_DEPTH):\n",
    "        # Python generator. Loosly based on an algorithm from 'Essential LISP' by\n",
    "        # John R. Anderson, Albert T. Corbett, and Brian J. Reiser, page 239-241\n",
    "        yield position\n",
    "        queue = self[position].fpointer\n",
    "        while queue:\n",
    "            yield queue[0]\n",
    "            expansion = self[queue[0]].fpointer\n",
    "            if mode is _DEPTH:\n",
    "                queue = expansion + queue[1:]  # depth-first\n",
    "            elif mode is _WIDTH:\n",
    "                queue = queue[1:] + expansion  # width-first\n",
    "\n",
    "    def is_branch(self, position):\n",
    "        return self[position].fpointer\n",
    "\n",
    "    def __update_fpointer(self, position, identifier, mode):\n",
    "        if position is None:\n",
    "            return\n",
    "        else:\n",
    "            self[position].update_fpointer(identifier, mode)\n",
    "\n",
    "    def __update_bpointer(self, position, identifier):\n",
    "        self[position].bpointer = identifier\n",
    "\n",
    "    def __getitem__(self, key):\n",
    "        return self.nodes[self.get_index(key)]\n",
    "\n",
    "    def __setitem__(self, key, item):\n",
    "        self.nodes[self.get_index(key)] = item\n",
    "\n",
    "    def __len__(self):\n",
    "        return len(self.nodes)\n",
    "\n",
    "    def __contains__(self, identifier):\n",
    "        return [node.identifier for node in self.nodes if node.identifier is identifier]\n",
    "\n",
    "if __name__ == \"__main__\":\n",
    "\n",
    "    tree = Tree()\n",
    "    tree.create_node(\"Harry\", \"harry\")  # root node\n",
    "    tree.create_node(\"Jane\", \"jane\", parent = \"harry\")\n",
    "    tree.create_node(\"Bill\", \"bill\", parent = \"harry\")\n",
    "    tree.create_node(\"Joe\", \"joe\", parent = \"jane\")\n",
    "    tree.create_node(\"Diane\", \"diane\", parent = \"jane\")\n",
    "    tree.create_node(\"George\", \"george\", parent = \"diane\")\n",
    "    tree.create_node(\"Mary\", \"mary\", parent = \"diane\")\n",
    "    tree.create_node(\"Jill\", \"jill\", parent = \"george\")\n",
    "    tree.create_node(\"Carol\", \"carol\", parent = \"jill\")\n",
    "    tree.create_node(\"Grace\", \"grace\", parent = \"bill\")\n",
    "    tree.create_node(\"Mark\", \"mark\", parent = \"jane\")\n",
    "\n",
    "    print(\"=\"*80)\n",
    "    tree.show(\"harry\")\n",
    "    print(\"=\"*80)\n",
    "    for node in tree.expand_tree(\"harry\", mode=_WIDTH):\n",
    "        print(node)\n",
    "    print(\"=\"*80)\n"
   ]
  },
  {
   "cell_type": "code",
   "execution_count": null,
   "metadata": {},
   "outputs": [],
   "source": []
  }
 ],
 "metadata": {
  "kernelspec": {
   "display_name": "Python 3",
   "language": "python",
   "name": "python3"
  },
  "language_info": {
   "codemirror_mode": {
    "name": "ipython",
    "version": 3
   },
   "file_extension": ".py",
   "mimetype": "text/x-python",
   "name": "python",
   "nbconvert_exporter": "python",
   "pygments_lexer": "ipython3",
   "version": "3.7.3"
  }
 },
 "nbformat": 4,
 "nbformat_minor": 2
}
