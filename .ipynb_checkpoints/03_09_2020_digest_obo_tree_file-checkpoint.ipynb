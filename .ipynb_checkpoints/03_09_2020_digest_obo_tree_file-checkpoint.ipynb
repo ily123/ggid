{
 "cells": [
  {
   "cell_type": "markdown",
   "metadata": {},
   "source": [
    "### \n",
    "\n",
    "In this nb, we create a class to contain GO's go term tree (the term ontology)."
   ]
  },
  {
   "cell_type": "code",
   "execution_count": 13,
   "metadata": {},
   "outputs": [],
   "source": [
    "import os.path\n",
    "import wget"
   ]
  },
  {
   "cell_type": "code",
   "execution_count": 17,
   "metadata": {},
   "outputs": [],
   "source": [
    "obo_url = 'http://current.geneontology.org/ontology/go-basic.obo'\n",
    "obo_fp = 'data/go-basic.obo'\n",
    "if not os.path.exists(obo_fp):\n",
    "    wget.download(obo_url, obo_fp)\n",
    "    print('downloaded %s' % obo_url)"
   ]
  },
  {
   "cell_type": "code",
   "execution_count": 29,
   "metadata": {},
   "outputs": [
    {
     "name": "stdout",
     "output_type": "stream",
     "text": [
      "Writing example.txt\n"
     ]
    }
   ],
   "source": [
    "#%%writefile example.txt\n",
    "\n",
    "obo_file = open(obo_fp, 'r')\n",
    "c=0\n",
    "for line in obo_file:\n",
    "    print(line.rstrip())\n",
    "    c+=1\n",
    "    if c==200:\n",
    "        break\n",
    "obo_file.close()\n",
    "print(c)"
   ]
  },
  {
   "cell_type": "code",
   "execution_count": null,
   "metadata": {},
   "outputs": [],
   "source": []
  }
 ],
 "metadata": {
  "kernelspec": {
   "display_name": "Python 3",
   "language": "python",
   "name": "python3"
  },
  "language_info": {
   "codemirror_mode": {
    "name": "ipython",
    "version": 3
   },
   "file_extension": ".py",
   "mimetype": "text/x-python",
   "name": "python",
   "nbconvert_exporter": "python",
   "pygments_lexer": "ipython3",
   "version": "3.7.3"
  }
 },
 "nbformat": 4,
 "nbformat_minor": 2
}
