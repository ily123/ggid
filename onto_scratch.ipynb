{
 "cells": [
  {
   "cell_type": "code",
   "execution_count": 1,
   "metadata": {},
   "outputs": [],
   "source": [
    "import gograph\n",
    "import importlib\n",
    "import re\n",
    "import time\n",
    "import annotations\n",
    "\n",
    "import pandas as pd\n",
    "import numpy as np"
   ]
  },
  {
   "cell_type": "code",
   "execution_count": 2,
   "metadata": {},
   "outputs": [
    {
     "name": "stderr",
     "output_type": "stream",
     "text": [
      "/home/ubuntu/anaconda3/lib/python3.7/site-packages/IPython/core/magic.py:187: DtypeWarning: Columns (15) have mixed types. Specify dtype option on import or set low_memory=False.\n",
      "  call = lambda f, *a, **k: f(*a, **k)\n"
     ]
    },
    {
     "name": "stdout",
     "output_type": "stream",
     "text": [
      "CPU times: user 1.7 s, sys: 161 ms, total: 1.86 s\n",
      "Wall time: 2.46 s\n"
     ]
    }
   ],
   "source": [
    "%%time\n",
    "\n",
    "importlib.reload(annotations)\n",
    "\n",
    "fp = 'data/goa_human.gaf'\n",
    "\n",
    "anno = annotations.Annotations(fp)"
   ]
  },
  {
   "cell_type": "code",
   "execution_count": 3,
   "metadata": {},
   "outputs": [
    {
     "name": "stdout",
     "output_type": "stream",
     "text": [
      "CPU times: user 1.7 s, sys: 40.7 ms, total: 1.74 s\n",
      "Wall time: 1.75 s\n"
     ]
    }
   ],
   "source": [
    "%%time\n",
    "importlib.reload(gograph)\n",
    "ontology = gograph.OBOParser('data/go-basic.obo').parse_ontology()"
   ]
  },
  {
   "cell_type": "code",
   "execution_count": 4,
   "metadata": {},
   "outputs": [],
   "source": [
    "ontology.draw_connections()"
   ]
  },
  {
   "cell_type": "code",
   "execution_count": 5,
   "metadata": {},
   "outputs": [
    {
     "name": "stdout",
     "output_type": "stream",
     "text": [
      "7.599782943725586\n"
     ]
    }
   ],
   "source": [
    "t = time.time()\n",
    "ontology.get_ancestry_table()\n",
    "print(time.time() - t)"
   ]
  },
  {
   "cell_type": "code",
   "execution_count": 6,
   "metadata": {},
   "outputs": [],
   "source": [
    "importlib.reload(gograph)\n",
    "am = gograph.AncestryMatrix(ontology.full_ancestry)"
   ]
  },
  {
   "cell_type": "code",
   "execution_count": 7,
   "metadata": {},
   "outputs": [],
   "source": [
    "am.get_matrix()"
   ]
  },
  {
   "cell_type": "code",
   "execution_count": 9,
   "metadata": {},
   "outputs": [],
   "source": [
    "anno_counts = dict(anno.get_counts())"
   ]
  },
  {
   "cell_type": "code",
   "execution_count": 35,
   "metadata": {},
   "outputs": [
    {
     "name": "stdout",
     "output_type": "stream",
     "text": [
      "495361\n"
     ]
    }
   ],
   "source": [
    "print(np.array(list(anno_counts.values())).sum())"
   ]
  },
  {
   "cell_type": "code",
   "execution_count": 10,
   "metadata": {},
   "outputs": [],
   "source": [
    "mtr = am.get_deep_count(anno_counts)"
   ]
  },
  {
   "cell_type": "code",
   "execution_count": 37,
   "metadata": {},
   "outputs": [
    {
     "data": {
      "text/plain": [
       "matrix([[0.00000000e+00, 2.65770791e-06, 5.19202224e-04, ...,\n",
       "         0.00000000e+00, 0.00000000e+00, 0.00000000e+00]])"
      ]
     },
     "execution_count": 37,
     "metadata": {},
     "output_type": "execute_result"
    }
   ],
   "source": [
    "s = mtr.sum(axis=0)/mtr.sum()\n",
    "s"
   ]
  },
  {
   "cell_type": "code",
   "execution_count": 42,
   "metadata": {},
   "outputs": [
    {
     "name": "stderr",
     "output_type": "stream",
     "text": [
      "/home/ubuntu/anaconda3/lib/python3.7/site-packages/ipykernel_launcher.py:1: RuntimeWarning: divide by zero encountered in log\n",
      "  \"\"\"Entry point for launching an IPython kernel.\n"
     ]
    }
   ],
   "source": [
    "s2 = -1*np.log(s)"
   ]
  },
  {
   "cell_type": "code",
   "execution_count": 45,
   "metadata": {},
   "outputs": [
    {
     "ename": "NameError",
     "evalue": "name 'Inf' is not defined",
     "output_type": "error",
     "traceback": [
      "\u001b[0;31m---------------------------------------------------------------------------\u001b[0m",
      "\u001b[0;31mNameError\u001b[0m                                 Traceback (most recent call last)",
      "\u001b[0;32m<ipython-input-45-2406deb9cdfc>\u001b[0m in \u001b[0;36m<module>\u001b[0;34m\u001b[0m\n\u001b[0;32m----> 1\u001b[0;31m \u001b[0ms2\u001b[0m \u001b[0;34m==\u001b[0m \u001b[0mInf\u001b[0m\u001b[0;34m\u001b[0m\u001b[0;34m\u001b[0m\u001b[0m\n\u001b[0m",
      "\u001b[0;31mNameError\u001b[0m: name 'Inf' is not defined"
     ]
    }
   ],
   "source": []
  },
  {
   "cell_type": "code",
   "execution_count": 29,
   "metadata": {},
   "outputs": [
    {
     "name": "stdout",
     "output_type": "stream",
     "text": [
      "[[    0 29447 29450 ...  6227  4243  2697]]\n"
     ]
    }
   ],
   "source": [
    "x = np.argsort(s)[0]\n",
    "print(x)"
   ]
  },
  {
   "cell_type": "code",
   "execution_count": 43,
   "metadata": {},
   "outputs": [
    {
     "name": "stdout",
     "output_type": "stream",
     "text": [
      "3.4877454411259876\n",
      "3.470140869816346\n",
      "3.441908470486378\n",
      "0.0936859124585184\n"
     ]
    }
   ],
   "source": [
    "sm = 0\n",
    "for i in [6227, 4243, 2697]:\n",
    "    print(s2[0, i])\n",
    "    sm += s[0, i]\n",
    "    \n",
    "print(sm)"
   ]
  },
  {
   "cell_type": "code",
   "execution_count": 194,
   "metadata": {},
   "outputs": [
    {
     "data": {
      "text/plain": [
       "6227"
      ]
     },
     "execution_count": 194,
     "metadata": {},
     "output_type": "execute_result"
    }
   ],
   "source": [
    "am.index_dict['GO:0008150']"
   ]
  },
  {
   "cell_type": "code",
   "execution_count": null,
   "metadata": {},
   "outputs": [],
   "source": []
  },
  {
   "cell_type": "code",
   "execution_count": 182,
   "metadata": {},
   "outputs": [
    {
     "data": {
      "text/plain": [
       "831938.0"
      ]
     },
     "execution_count": 182,
     "metadata": {},
     "output_type": "execute_result"
    }
   ],
   "source": [
    "am.matrix.sum()"
   ]
  },
  {
   "cell_type": "code",
   "execution_count": 188,
   "metadata": {},
   "outputs": [
    {
     "data": {
      "text/plain": [
       "array([2, 0])"
      ]
     },
     "execution_count": 188,
     "metadata": {},
     "output_type": "execute_result"
    }
   ],
   "source": [
    "np.array([[1,1],[0,0]]).sum(axis=1)"
   ]
  },
  {
   "cell_type": "code",
   "execution_count": 174,
   "metadata": {},
   "outputs": [
    {
     "name": "stdout",
     "output_type": "stream",
     "text": [
      "47434\n"
     ]
    }
   ],
   "source": [
    "print(len(vec))"
   ]
  },
  {
   "cell_type": "code",
   "execution_count": 13,
   "metadata": {},
   "outputs": [],
   "source": [
    "from scipy import sparse"
   ]
  },
  {
   "cell_type": "code",
   "execution_count": 17,
   "metadata": {},
   "outputs": [
    {
     "data": {
      "text/plain": [
       "array([1., 1., 1., 1., 1.])"
      ]
     },
     "execution_count": 17,
     "metadata": {},
     "output_type": "execute_result"
    }
   ],
   "source": [
    "np.ones(5)"
   ]
  },
  {
   "cell_type": "code",
   "execution_count": 108,
   "metadata": {},
   "outputs": [],
   "source": []
  },
  {
   "cell_type": "code",
   "execution_count": 79,
   "metadata": {},
   "outputs": [],
   "source": [
    "#df = pd.DataFrame(mm.todense(), index=mm.row, columns=mm.col)"
   ]
  },
  {
   "cell_type": "code",
   "execution_count": 105,
   "metadata": {},
   "outputs": [
    {
     "data": {
      "text/plain": [
       "0.056"
      ]
     },
     "execution_count": 105,
     "metadata": {},
     "output_type": "execute_result"
    }
   ],
   "source": [
    "sys.getsizeof(mm2) / 1000"
   ]
  },
  {
   "cell_type": "code",
   "execution_count": 145,
   "metadata": {},
   "outputs": [
    {
     "name": "stdout",
     "output_type": "stream",
     "text": [
      "136\n"
     ]
    }
   ],
   "source": [
    "n = 100000\n",
    "a = list(range(n))\n",
    "\n",
    "vec = np.array(range(n))\n",
    "vec[:] = 10\n",
    "mm2 = sparse.coo_matrix((np.ones(n), (a,a)))\n",
    "#mm2 = mm.tocsc()\n",
    "mm2 = mm2.multiply(vec)\n",
    "sm = mm2.sum(axis=1)\n",
    "#mm2.toarray()\n",
    "print(sys.getsizeof(sm))"
   ]
  },
  {
   "cell_type": "code",
   "execution_count": 226,
   "metadata": {},
   "outputs": [
    {
     "data": {
      "text/plain": [
       "array([[ 1,  1],\n",
       "       [-1, -1]], dtype=int64)"
      ]
     },
     "execution_count": 226,
     "metadata": {},
     "output_type": "execute_result"
    }
   ],
   "source": [
    "a = sparse.coo_matrix([[1,1],\n",
    "                       [1,1]])\n",
    "a.multiply(np.array([1,-1]).reshape(-1, 1)).toarray()"
   ]
  },
  {
   "cell_type": "code",
   "execution_count": 225,
   "metadata": {},
   "outputs": [
    {
     "data": {
      "text/plain": [
       "array([[ 1],\n",
       "       [-1]])"
      ]
     },
     "execution_count": 225,
     "metadata": {},
     "output_type": "execute_result"
    }
   ],
   "source": [
    "np.array([1,-1]).reshape(-1, 1)"
   ]
  },
  {
   "cell_type": "code",
   "execution_count": 29,
   "metadata": {},
   "outputs": [
    {
     "data": {
      "text/plain": [
       "47434"
      ]
     },
     "execution_count": 29,
     "metadata": {},
     "output_type": "execute_result"
    }
   ],
   "source": [
    "len(ontology.full_ancestry)"
   ]
  },
  {
   "cell_type": "code",
   "execution_count": 38,
   "metadata": {},
   "outputs": [
    {
     "name": "stdout",
     "output_type": "stream",
     "text": [
      "2858\n"
     ]
    }
   ],
   "source": [
    "i = 0\n",
    "for k, term in ontology.nodes.items():\n",
    "    if term.ancestor_ids == []:\n",
    "        #print(term.id)\n",
    "        i += 1\n",
    "print(i)"
   ]
  },
  {
   "cell_type": "code",
   "execution_count": 37,
   "metadata": {},
   "outputs": [
    {
     "data": {
      "text/plain": [
       "{'id': 'GO:0000001',\n",
       " 'namespace': 'biological_process',\n",
       " 'definition': '\"The distribution of mitochondria, including the mitochondrial genome, into daughter cells after mitosis or meiosis, mediated by interactions between mitochondria and the cytoskeleton.\" [GOC:mcc, PMID:10873824, PMID:11389764]',\n",
       " 'is_a': ['GO:0048308 ! organelle inheritance',\n",
       "  'GO:0048311 ! mitochondrion distribution'],\n",
       " 'ancestor_ids': ['GO:0048308', 'GO:0048311'],\n",
       " 'child_ids': [],\n",
       " 'ancestors': [<gograph.GoTerm at 0x7f9f4dcc2e48>,\n",
       "  <gograph.GoTerm at 0x7f9f4dcc2eb8>],\n",
       " 'children': [],\n",
       " 'name': 'mitochondrion inheritance'}"
      ]
     },
     "execution_count": 37,
     "metadata": {},
     "output_type": "execute_result"
    }
   ],
   "source": [
    "ontology.nodes['GO:0000001'].__dict__"
   ]
  },
  {
   "cell_type": "code",
   "execution_count": 38,
   "metadata": {},
   "outputs": [
    {
     "data": {
      "text/plain": [
       "['GO:0009987',\n",
       " 'GO:0051179',\n",
       " 'GO:0051640',\n",
       " 'GO:0008150',\n",
       " 'GO:0051646',\n",
       " 'GO:0048308',\n",
       " 'GO:0051641',\n",
       " 'GO:0048311',\n",
       " 'GO:0007005',\n",
       " 'GO:0071840',\n",
       " 'GO:0006996',\n",
       " 'GO:0016043']"
      ]
     },
     "execution_count": 38,
     "metadata": {},
     "output_type": "execute_result"
    }
   ],
   "source": [
    "ontology.get_full_ancestry('GO:0000001')"
   ]
  },
  {
   "cell_type": "code",
   "execution_count": 9,
   "metadata": {},
   "outputs": [
    {
     "name": "stdout",
     "output_type": "stream",
     "text": [
      "CPU times: user 1.9 s, sys: 15.6 ms, total: 1.91 s\n",
      "Wall time: 1.91 s\n"
     ]
    }
   ],
   "source": [
    "%%time \n",
    "importlib.reload(gograph)\n",
    "\n",
    "obo_fp = 'data/go-basic.obo'\n",
    "obo_file = open(obo_fp, 'r')\n",
    "\n",
    "def parse_ancestor_id(is_a):\n",
    "    \"\"\"\n",
    "    Extracts go term ids from 'is_a' and 'relatioship' field\n",
    "    \"\"\"\n",
    "    capture = re.search('(GO:\\d{7})\\s!\\s', is_a)\n",
    "    if capture:\n",
    "        return capture.group(1)\n",
    "\n",
    "go_list = {}\n",
    "blank_template = {'id': None, 'name': None, 'namespace': None,\n",
    "                  'def': None, 'is_a': []}\n",
    "\n",
    "go_dag = gograph.GoGraph()\n",
    "term_flag = False\n",
    "for line in obo_file:\n",
    "    capture = re.search('(.+):\\s(.+)\\n', line)\n",
    "    if line == '[Term]\\n':\n",
    "        term_flag = True\n",
    "    elif line == '\\n':\n",
    "        term_flag = False\n",
    "        \n",
    "    if capture and term_flag:\n",
    "        name = capture.group(1)\n",
    "        content = capture.group(2)\n",
    "        if name == 'id':\n",
    "            go_term = gograph.GoTerm(id_=content)\n",
    "            go_dag.add_node(go_term) # push term into tree\n",
    "        elif name == 'is_a' or name == 'relationship':\n",
    "            go_term.is_a.append(content)\n",
    "            go_term.ancestor_ids.append(parse_ancestor_id(content))\n",
    "        elif name == 'name':\n",
    "            go_term.name = content\n",
    "        elif name == 'namespace':\n",
    "            go_term.namespace = content\n",
    "        elif name == 'def':\n",
    "            go_term.definition = content\n",
    "\n",
    "obo_file.close()"
   ]
  },
  {
   "cell_type": "code",
   "execution_count": null,
   "metadata": {},
   "outputs": [],
   "source": [
    "go_dag.nodes['GO:0000015'].__dict__"
   ]
  },
  {
   "cell_type": "code",
   "execution_count": null,
   "metadata": {},
   "outputs": [],
   "source": [
    "go_dag.draw_connections()"
   ]
  },
  {
   "cell_type": "code",
   "execution_count": null,
   "metadata": {},
   "outputs": [],
   "source": [
    "t0 = time.time()\n",
    "h = {}\n",
    "\n",
    "i = 0\n",
    "for node in go_dag.nodes.values():\n",
    "    anc = traverse3(node)\n",
    "    h[node.id] = list(set(anc))\n",
    "    #i = i + 1\n",
    "    #if i % 1000 == 0 or i == len(go_dag.nodes):\n",
    "    #   bar = '*' * (i//1000)\n",
    "    #    print(bar, end='\\r')\n",
    "        #print(f'Progress {i}/{len(go_dag.nodes)} done', end='\\r')\n",
    "print()\n",
    "print('Wall time: ', time.time()-t0)\n",
    "#['GO:0000001'].ancestors"
   ]
  },
  {
   "cell_type": "code",
   "execution_count": null,
   "metadata": {},
   "outputs": [],
   "source": [
    "t0 = time.time()\n",
    "h = {}\n",
    "\n",
    "i = 0\n",
    "for node in go_dag.nodes.keys():\n",
    "    anc = traverse4(node)\n",
    "    h[node] = list(set(anc))\n",
    "    #i = i + 1\n",
    "    #if i % 1000 == 0 or i == len(go_dag.nodes):\n",
    "    #   bar = '*' * (i//1000)\n",
    "    #    print(bar, end='\\r')\n",
    "        #print(f'Progress {i}/{len(go_dag.nodes)} done', end='\\r')\n",
    "print()\n",
    "print('Wall time: ', time.time()-t0)\n",
    "#['GO:0000001'].ancestors"
   ]
  },
  {
   "cell_type": "code",
   "execution_count": null,
   "metadata": {},
   "outputs": [],
   "source": [
    "t0 = time.time()\n",
    "def traverse2(term):\n",
    "    all_ancestors = []\n",
    "    if term.ancestors == []:\n",
    "        all_ancestors.append(term.id)\n",
    "    else:\n",
    "        all_ancestors.append(term.id)\n",
    "        for t in term.ancestors:\n",
    "            all_ancestors.extend(traverse2(t))\n",
    "    return all_ancestors\n",
    "        \n",
    "    \n",
    "a = traverse2(go_dag.nodes['GO:0000001'])\n",
    "print(time.time()-t0)\n",
    "print(a)\n",
    "print(len(a))\n",
    "print(len(set(a)))"
   ]
  },
  {
   "cell_type": "code",
   "execution_count": null,
   "metadata": {},
   "outputs": [],
   "source": [
    "t0 = time.time()\n",
    "def traverse3(term):\n",
    "    all_ancestors = [term.id]\n",
    "    if term.ancestors != []:\n",
    "        for t in term.ancestors:\n",
    "            all_ancestors.extend(traverse3(t))\n",
    "    return all_ancestors\n",
    "        \n",
    "b = traverse3(go_dag.nodes['GO:0000001'])\n",
    "print(time.time()-t0)\n",
    "\n",
    "print(b)\n",
    "print(len(b))\n",
    "print(len(set(b)))"
   ]
  },
  {
   "cell_type": "code",
   "execution_count": null,
   "metadata": {},
   "outputs": [],
   "source": [
    "def traverse4(node_id):\n",
    "    \"\"\"\n",
    "    Traverse GO graph from given node to root\n",
    "\n",
    "    Attributes:\n",
    "        node_id : str\n",
    "            GO term id of node (ex: 'GO:0000001')\n",
    "    Return:\n",
    "        ancestors : list\n",
    "            list of acestor GO term ids\n",
    "\n",
    "    Note:\n",
    "        The list of ancestor ids will have duplicates, because\n",
    "        in the GO ontology children can have multiple parents and\n",
    "        so there are multiple paths leading to the root.\n",
    "\n",
    "        For example:\n",
    "\n",
    "                /C\\\n",
    "            A--B   F--root\n",
    "                \\D/\n",
    "\n",
    "        Calling traverse(A) will return\n",
    "            [A, B, C, F, root, D, F, root]\n",
    "\n",
    "    \"\"\"\n",
    "    ancestors = []\n",
    "\n",
    "    #f go_dag.nodes[node_id].ancestors == []:\n",
    "    #   return ancestors\n",
    "    if go_dag.nodes[node_id].ancestors != []:\n",
    "        for ancestor in go_dag.nodes[node_id].ancestors:\n",
    "            ancestors.append(ancestor.id)\n",
    "            ancestors.extend(traverse4(ancestor.id))\n",
    "\n",
    "    return ancestors\n",
    "\n",
    "t0 = time.time()\n",
    "b = traverse4('GO:0000001')\n",
    "print(time.time()-t0)\n",
    "print(b)\n",
    "print(len(b))\n",
    "print(len(set(b)))"
   ]
  },
  {
   "cell_type": "code",
   "execution_count": null,
   "metadata": {},
   "outputs": [],
   "source": [
    "from progress.bar import Bar"
   ]
  },
  {
   "cell_type": "code",
   "execution_count": null,
   "metadata": {},
   "outputs": [],
   "source": [
    "bar = Bar('Processing', max=20)\n",
    "for i in range(20):\n",
    "    # Do some work\n",
    "    bar.next()\n",
    "bar.finish()"
   ]
  },
  {
   "cell_type": "code",
   "execution_count": null,
   "metadata": {},
   "outputs": [],
   "source": [
    "# Print iterations progress\n",
    "def printProgressBar (iteration, total, prefix = '', suffix = '', decimals = 1, length = 100, fill = '█', printEnd = \"\\r\"):\n",
    "    \"\"\"\n",
    "    Call in a loop to create terminal progress bar\n",
    "    @params:\n",
    "        iteration   - Required  : current iteration (Int)\n",
    "        total       - Required  : total iterations (Int)\n",
    "        prefix      - Optional  : prefix string (Str)\n",
    "        suffix      - Optional  : suffix string (Str)\n",
    "        decimals    - Optional  : positive number of decimals in percent complete (Int)\n",
    "        length      - Optional  : character length of bar (Int)\n",
    "        fill        - Optional  : bar fill character (Str)\n",
    "        printEnd    - Optional  : end character (e.g. \"\\r\", \"\\r\\n\") (Str)\n",
    "    \n",
    "    author : https://stackoverflow.com/a/34325723\n",
    "    \"\"\"\n",
    "    percent = (\"{0:.\" + str(decimals) + \"f}\").format(100 * (iteration / float(total)))\n",
    "    filledLength = int(length * iteration // total)\n",
    "    bar = fill * filledLength + '-' * (length - filledLength)\n",
    "    print('%s |%s| %s%% %s' % (prefix, bar, percent, suffix), end = printEnd)\n",
    "    # Print New Line on Complete\n",
    "    if iteration == total: \n",
    "        print()"
   ]
  },
  {
   "cell_type": "code",
   "execution_count": null,
   "metadata": {},
   "outputs": [],
   "source": [
    "import time\n",
    "\n",
    "# A List of Items\n",
    "items = list(range(0, 57))\n",
    "l = len(items)\n",
    "\n",
    "# Initial call to print 0% progress\n",
    "printProgressBar(0, l, prefix = 'Progress:', suffix = 'Complete', length = 50)\n",
    "for i, item in enumerate(items):\n",
    "    # Do stuff...\n",
    "    time.sleep(0.1)\n",
    "    # Update Progress Bar\n",
    "    printProgressBar(i + 1, l, prefix = 'Progress:', suffix = 'Complete', length = 50)"
   ]
  },
  {
   "cell_type": "code",
   "execution_count": null,
   "metadata": {},
   "outputs": [],
   "source": [
    "10/5"
   ]
  },
  {
   "cell_type": "code",
   "execution_count": null,
   "metadata": {},
   "outputs": [],
   "source": []
  },
  {
   "cell_type": "code",
   "execution_count": null,
   "metadata": {},
   "outputs": [],
   "source": [
    "1+1"
   ]
  },
  {
   "cell_type": "code",
   "execution_count": null,
   "metadata": {},
   "outputs": [],
   "source": [
    "import numpy as np"
   ]
  },
  {
   "cell_type": "code",
   "execution_count": null,
   "metadata": {},
   "outputs": [],
   "source": [
    "np.array([[1,1],[1,1]]) * np.array([[10],[2]])"
   ]
  },
  {
   "cell_type": "code",
   "execution_count": null,
   "metadata": {},
   "outputs": [],
   "source": [
    "2+2"
   ]
  },
  {
   "cell_type": "code",
   "execution_count": null,
   "metadata": {},
   "outputs": [],
   "source": []
  }
 ],
 "metadata": {
  "kernelspec": {
   "display_name": "Python 3",
   "language": "python",
   "name": "python3"
  },
  "language_info": {
   "codemirror_mode": {
    "name": "ipython",
    "version": 3
   },
   "file_extension": ".py",
   "mimetype": "text/x-python",
   "name": "python",
   "nbconvert_exporter": "python",
   "pygments_lexer": "ipython3",
   "version": "3.7.3"
  }
 },
 "nbformat": 4,
 "nbformat_minor": 2
}
