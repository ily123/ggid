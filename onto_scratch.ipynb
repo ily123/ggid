{
 "cells": [
  {
   "cell_type": "code",
   "execution_count": 1,
   "metadata": {},
   "outputs": [],
   "source": [
    "import gograph\n",
    "import similarity\n",
    "import importlib\n",
    "import re\n",
    "import time\n",
    "import annotations\n",
    "\n",
    "import pandas as pd\n",
    "import numpy as np"
   ]
  },
  {
   "cell_type": "code",
   "execution_count": 2,
   "metadata": {},
   "outputs": [],
   "source": [
    "def reload_my_modules():\n",
    "    \"\"\"Re-import my modules into the IPython shell\"\"\"\n",
    "    importlib.reload(annotations)\n",
    "    importlib.reload(gograph)\n",
    "    importlib.reload(similarity)"
   ]
  },
  {
   "cell_type": "code",
   "execution_count": 132,
   "metadata": {},
   "outputs": [
    {
     "name": "stderr",
     "output_type": "stream",
     "text": [
      "/home/ubuntu/anaconda3/lib/python3.7/site-packages/IPython/core/magic.py:187: DtypeWarning: Columns (15) have mixed types. Specify dtype option on import or set low_memory=False.\n",
      "  call = lambda f, *a, **k: f(*a, **k)\n"
     ]
    },
    {
     "name": "stdout",
     "output_type": "stream",
     "text": [
      "CPU times: user 1.7 s, sys: 91.6 ms, total: 1.79 s\n",
      "Wall time: 1.83 s\n"
     ]
    }
   ],
   "source": [
    "%%time\n",
    "reload_my_modules()\n",
    "fp = 'data/goa_human.gaf'\n",
    "anno = annotations.Annotations(fp)"
   ]
  },
  {
   "cell_type": "code",
   "execution_count": 4,
   "metadata": {},
   "outputs": [
    {
     "name": "stdout",
     "output_type": "stream",
     "text": [
      "19674\n",
      "25.178458879739757\n",
      "0.00      1.0\n",
      "0.25      7.0\n",
      "0.50     15.0\n",
      "0.75     30.0\n",
      "1.00    909.0\n",
      "dtype: float64\n",
      "495361\n"
     ]
    }
   ],
   "source": [
    "# num proteins\n",
    "print(anno.annotations.groupby('DB_Object_ID').size().count())\n",
    "# num annos per protein\n",
    "print(anno.annotations.groupby('DB_Object_ID').size().mean())\n",
    "#\n",
    "print(anno.annotations.groupby('DB_Object_ID').size().quantile([0, 0.25, 0.5, 0.75, 1]))\n",
    "# total annos\n",
    "print(len(anno.annotations))"
   ]
  },
  {
   "cell_type": "code",
   "execution_count": 5,
   "metadata": {
    "scrolled": true
   },
   "outputs": [
    {
     "name": "stdout",
     "output_type": "stream",
     "text": [
      "CPU times: user 1.89 s, sys: 56.2 ms, total: 1.95 s\n",
      "Wall time: 1.97 s\n"
     ]
    }
   ],
   "source": [
    "%%time\n",
    "reload_my_modules()\n",
    "#fp = 'data/go-basic.obo'\n",
    "fp = 'data/gene_ontology_edit.obo.2019-07-01'\n",
    "ontology = gograph.OBOParser(fp).parse_ontology()"
   ]
  },
  {
   "cell_type": "code",
   "execution_count": 6,
   "metadata": {},
   "outputs": [
    {
     "name": "stdout",
     "output_type": "stream",
     "text": [
      "8.810279130935669\n"
     ]
    }
   ],
   "source": [
    "t = time.time()\n",
    "ontology.make_ancestry_matrix()\n",
    "print(time.time()-t)"
   ]
  },
  {
   "cell_type": "code",
   "execution_count": 85,
   "metadata": {
    "scrolled": true
   },
   "outputs": [],
   "source": [
    "ontology.ancestry_matrix.matrix.setdiag(1)"
   ]
  },
  {
   "cell_type": "code",
   "execution_count": 137,
   "metadata": {},
   "outputs": [],
   "source": [
    "anno.annotations = anno.annotations.loc[anno.annotations.Aspect == 'P', :]"
   ]
  },
  {
   "cell_type": "code",
   "execution_count": 138,
   "metadata": {},
   "outputs": [
    {
     "data": {
      "text/plain": [
       "161667"
      ]
     },
     "execution_count": 138,
     "metadata": {},
     "output_type": "execute_result"
    }
   ],
   "source": [
    "len(anno.annotations)"
   ]
  },
  {
   "cell_type": "code",
   "execution_count": 139,
   "metadata": {
    "scrolled": true
   },
   "outputs": [
    {
     "name": "stderr",
     "output_type": "stream",
     "text": [
      "/home/ubuntu/CodeRepos/ggid/annotations.py:52: RuntimeWarning: divide by zero encountered in log10\n",
      "  self.information_content = -1*np.log(self.deep_count.sum(axis=0)/self.deep_count.sum())\n"
     ]
    }
   ],
   "source": [
    "importlib.reload(annotations)\n",
    "ft = annotations.FrequencyTable(anno, ontology.ancestry_matrix)"
   ]
  },
  {
   "cell_type": "code",
   "execution_count": 140,
   "metadata": {},
   "outputs": [
    {
     "data": {
      "text/plain": [
       "1.3489506196012797"
      ]
     },
     "execution_count": 140,
     "metadata": {},
     "output_type": "execute_result"
    }
   ],
   "source": [
    "ft.ic['GO:0008150']\n",
    "#'GO:0008152'\n",
    "#'GO:0009987'"
   ]
  },
  {
   "cell_type": "code",
   "execution_count": 162,
   "metadata": {},
   "outputs": [
    {
     "data": {
      "text/plain": [
       "38944"
      ]
     },
     "execution_count": 162,
     "metadata": {},
     "output_type": "execute_result"
    }
   ],
   "source": [
    "ft.index_dict['GO:0120077']"
   ]
  },
  {
   "cell_type": "code",
   "execution_count": 142,
   "metadata": {},
   "outputs": [
    {
     "data": {
      "text/plain": [
       "161667"
      ]
     },
     "execution_count": 142,
     "metadata": {},
     "output_type": "execute_result"
    }
   ],
   "source": [
    "len(anno.annotations)"
   ]
  },
  {
   "cell_type": "code",
   "execution_count": 152,
   "metadata": {},
   "outputs": [],
   "source": [
    "mm = ft.deep_count.sum(axis=0)#/ft.deep_count.sum()"
   ]
  },
  {
   "cell_type": "code",
   "execution_count": 170,
   "metadata": {},
   "outputs": [
    {
     "data": {
      "text/plain": [
       "3608752.0"
      ]
     },
     "execution_count": 170,
     "metadata": {},
     "output_type": "execute_result"
    }
   ],
   "source": [
    "ft.deep_count.sum()"
   ]
  },
  {
   "cell_type": "code",
   "execution_count": 171,
   "metadata": {},
   "outputs": [
    {
     "data": {
      "text/plain": [
       "161587.0"
      ]
     },
     "execution_count": 171,
     "metadata": {},
     "output_type": "execute_result"
    }
   ],
   "source": [
    "mm[0, ft.index_dict['GO:0008150']]"
   ]
  },
  {
   "cell_type": "code",
   "execution_count": 167,
   "metadata": {},
   "outputs": [
    {
     "name": "stdout",
     "output_type": "stream",
     "text": [
      "-1.2625596417435785\n",
      "-1.168707237702467\n"
     ]
    }
   ],
   "source": [
    "import math\n",
    "print(math.log(39281/138837))\n",
    "print(np.log(50241/161667))"
   ]
  },
  {
   "cell_type": "code",
   "execution_count": 169,
   "metadata": {},
   "outputs": [
    {
     "name": "stderr",
     "output_type": "stream",
     "text": [
      "/home/ubuntu/anaconda3/lib/python3.7/site-packages/ipykernel_launcher.py:1: RuntimeWarning: divide by zero encountered in log\n",
      "  \"\"\"Entry point for launching an IPython kernel.\n"
     ]
    },
    {
     "data": {
      "text/plain": [
       "4.274285858765062"
      ]
     },
     "execution_count": 169,
     "metadata": {},
     "output_type": "execute_result"
    }
   ],
   "source": [
    "-1*np.log(mm/ft.deep_count.sum())[0,ft.index_dict['GO:0008152']]"
   ]
  },
  {
   "cell_type": "code",
   "execution_count": 100,
   "metadata": {},
   "outputs": [
    {
     "data": {
      "text/plain": [
       "5.0"
      ]
     },
     "execution_count": 100,
     "metadata": {},
     "output_type": "execute_result"
    }
   ],
   "source": [
    "-1*np.log10(1/100000)"
   ]
  },
  {
   "cell_type": "code",
   "execution_count": 91,
   "metadata": {},
   "outputs": [
    {
     "data": {
      "text/plain": [
       "1.9628650418378444"
      ]
     },
     "execution_count": 91,
     "metadata": {},
     "output_type": "execute_result"
    }
   ],
   "source": [
    "sim.get_ic_mica('GO:0006807', 'GO:0006807')"
   ]
  },
  {
   "cell_type": "code",
   "execution_count": 92,
   "metadata": {},
   "outputs": [
    {
     "data": {
      "text/plain": [
       "['GO:0008150', 'GO:0008152']"
      ]
     },
     "execution_count": 92,
     "metadata": {},
     "output_type": "execute_result"
    }
   ],
   "source": [
    "ontology.full_ancestry['GO:0008152']#.ancestor_ids"
   ]
  },
  {
   "cell_type": "code",
   "execution_count": 33,
   "metadata": {},
   "outputs": [
    {
     "name": "stdout",
     "output_type": "stream",
     "text": [
      "0.014049530029296875\n"
     ]
    }
   ],
   "source": [
    "t = time.time()\n",
    "list(anno.annotations.loc[anno.annotations.DB_Object_Symbol=='NUDT4B','GO_ID'])\n",
    "print(time.time()-t)"
   ]
  },
  {
   "cell_type": "code",
   "execution_count": 34,
   "metadata": {},
   "outputs": [],
   "source": [
    "s2 = ft.deep_count.sum(axis=0)/ft.deep_count.sum()\n",
    "\n",
    "#s2 = -1*np.log(s)\n",
    "\n",
    "#s = mtr.sum(axis=0)/mtr.sum()\n"
   ]
  },
  {
   "cell_type": "code",
   "execution_count": 35,
   "metadata": {},
   "outputs": [],
   "source": [
    "#dict(zip(list(ontology.ancestry_matrix.index_dict.keys()), np.array(s2).tolist()[0]))"
   ]
  },
  {
   "cell_type": "code",
   "execution_count": 40,
   "metadata": {},
   "outputs": [],
   "source": [
    "for k,v in ontology.full_ancestry.items():\n",
    "    v.append(k)"
   ]
  },
  {
   "cell_type": "code",
   "execution_count": 184,
   "metadata": {},
   "outputs": [],
   "source": [
    "reload_my_modules()\n",
    "proteins = ['GRK2']*100\n",
    "\n",
    "#P25098 GRK2\n",
    "#P35626 GRK3\n",
    "\n",
    "sim = similarity.Similarity(anno, ontology, ft, proteins, namespace='P', verbose=True)"
   ]
  },
  {
   "cell_type": "code",
   "execution_count": 185,
   "metadata": {
    "scrolled": true
   },
   "outputs": [
    {
     "name": "stdout",
     "output_type": "stream",
     "text": [
      "217.05695867538452\n"
     ]
    }
   ],
   "source": [
    "t0 = time.time()\n",
    "sim.calculate_similarity()\n",
    "print(time.time() - t0)"
   ]
  },
  {
   "cell_type": "code",
   "execution_count": 17,
   "metadata": {},
   "outputs": [],
   "source": [
    "#GRK2 GRK2 4.880422399667924\n",
    "#GRK2 GRK3 4.457138969013438\n",
    "#GRK3 GRK2 4.457138969013437\n",
    "#GRK3 GRK3 5.106886306085221\n",
    "#*\n",
    "#GRK2 GRK2 4.790863646685823\n",
    "#GRK2 GRK3 4.3652520397371095\n",
    "#GRK3 GRK2 4.36525203973711\n",
    "#GRK3 GRK3 5.014008641330033"
   ]
  },
  {
   "cell_type": "code",
   "execution_count": 12,
   "metadata": {},
   "outputs": [
    {
     "name": "stdout",
     "output_type": "stream",
     "text": [
      "#0\n"
     ]
    }
   ],
   "source": [
    "a = 0\n",
    "print(f'#{a}')"
   ]
  },
  {
   "cell_type": "code",
   "execution_count": null,
   "metadata": {},
   "outputs": [],
   "source": [
    "sim.__dict__"
   ]
  },
  {
   "cell_type": "code",
   "execution_count": null,
   "metadata": {},
   "outputs": [],
   "source": [
    "a = [1,2,3]\n",
    "b = [2,3,4]\n",
    "\n",
    "set(a) & set(b)"
   ]
  },
  {
   "cell_type": "code",
   "execution_count": null,
   "metadata": {},
   "outputs": [],
   "source": [
    "20000*20000"
   ]
  },
  {
   "cell_type": "code",
   "execution_count": null,
   "metadata": {},
   "outputs": [],
   "source": [
    "20000*20000*225"
   ]
  },
  {
   "cell_type": "code",
   "execution_count": null,
   "metadata": {},
   "outputs": [],
   "source": [
    "t = time.time()\n",
    "ontology.get_ancestry_table()\n",
    "print(time.time() - t)"
   ]
  },
  {
   "cell_type": "code",
   "execution_count": null,
   "metadata": {},
   "outputs": [],
   "source": [
    "importlib.reload(gograph)\n",
    "am = gograph.AncestryMatrix(ontology.full_ancestry)"
   ]
  },
  {
   "cell_type": "code",
   "execution_count": null,
   "metadata": {},
   "outputs": [],
   "source": [
    "am.get_matrix()"
   ]
  },
  {
   "cell_type": "code",
   "execution_count": null,
   "metadata": {},
   "outputs": [],
   "source": [
    "anno_counts = dict(anno.get_counts())"
   ]
  },
  {
   "cell_type": "code",
   "execution_count": null,
   "metadata": {},
   "outputs": [],
   "source": [
    "print(np.array(list(anno_counts.values())).sum())"
   ]
  },
  {
   "cell_type": "code",
   "execution_count": null,
   "metadata": {},
   "outputs": [],
   "source": [
    "mtr = am.get_deep_count(anno_counts)"
   ]
  },
  {
   "cell_type": "code",
   "execution_count": null,
   "metadata": {},
   "outputs": [],
   "source": [
    "s = mtr.sum(axis=0)/mtr.sum()\n",
    "s"
   ]
  },
  {
   "cell_type": "code",
   "execution_count": null,
   "metadata": {},
   "outputs": [],
   "source": [
    "s2 = -1*np.log(s)"
   ]
  },
  {
   "cell_type": "code",
   "execution_count": null,
   "metadata": {},
   "outputs": [],
   "source": []
  },
  {
   "cell_type": "code",
   "execution_count": null,
   "metadata": {},
   "outputs": [],
   "source": [
    "x = np.argsort(s)[0]\n",
    "print(x)"
   ]
  },
  {
   "cell_type": "code",
   "execution_count": null,
   "metadata": {},
   "outputs": [],
   "source": [
    "sm = 0\n",
    "for i in [6227, 4243, 2697]:\n",
    "    print(s2[0, i])\n",
    "    sm += s[0, i]\n",
    "    \n",
    "print(sm)"
   ]
  },
  {
   "cell_type": "code",
   "execution_count": null,
   "metadata": {},
   "outputs": [],
   "source": [
    "am.index_dict['GO:0008150']"
   ]
  },
  {
   "cell_type": "code",
   "execution_count": null,
   "metadata": {},
   "outputs": [],
   "source": []
  },
  {
   "cell_type": "code",
   "execution_count": null,
   "metadata": {},
   "outputs": [],
   "source": [
    "am.matrix.sum()"
   ]
  },
  {
   "cell_type": "code",
   "execution_count": null,
   "metadata": {},
   "outputs": [],
   "source": [
    "np.array([[1,1],[0,0]]).sum(axis=1)"
   ]
  },
  {
   "cell_type": "code",
   "execution_count": null,
   "metadata": {},
   "outputs": [],
   "source": [
    "print(len(vec))"
   ]
  },
  {
   "cell_type": "code",
   "execution_count": null,
   "metadata": {},
   "outputs": [],
   "source": [
    "from scipy import sparse"
   ]
  },
  {
   "cell_type": "code",
   "execution_count": null,
   "metadata": {},
   "outputs": [],
   "source": [
    "np.ones(5)"
   ]
  },
  {
   "cell_type": "code",
   "execution_count": null,
   "metadata": {},
   "outputs": [],
   "source": []
  },
  {
   "cell_type": "code",
   "execution_count": null,
   "metadata": {},
   "outputs": [],
   "source": [
    "#df = pd.DataFrame(mm.todense(), index=mm.row, columns=mm.col)"
   ]
  },
  {
   "cell_type": "code",
   "execution_count": null,
   "metadata": {},
   "outputs": [],
   "source": [
    "sys.getsizeof(mm2) / 1000"
   ]
  },
  {
   "cell_type": "code",
   "execution_count": null,
   "metadata": {},
   "outputs": [],
   "source": [
    "n = 100000\n",
    "a = list(range(n))\n",
    "\n",
    "vec = np.array(range(n))\n",
    "vec[:] = 10\n",
    "mm2 = sparse.coo_matrix((np.ones(n), (a,a)))\n",
    "#mm2 = mm.tocsc()\n",
    "mm2 = mm2.multiply(vec)\n",
    "sm = mm2.sum(axis=1)\n",
    "#mm2.toarray()\n",
    "print(sys.getsizeof(sm))"
   ]
  },
  {
   "cell_type": "code",
   "execution_count": null,
   "metadata": {},
   "outputs": [],
   "source": [
    "a = sparse.coo_matrix([[1,1],\n",
    "                       [1,1]])\n",
    "a.multiply(np.array([1,-1]).reshape(-1, 1)).toarray()"
   ]
  },
  {
   "cell_type": "code",
   "execution_count": null,
   "metadata": {},
   "outputs": [],
   "source": [
    "np.array([1,-1]).reshape(-1, 1)"
   ]
  },
  {
   "cell_type": "code",
   "execution_count": null,
   "metadata": {},
   "outputs": [],
   "source": [
    "len(ontology.full_ancestry)"
   ]
  },
  {
   "cell_type": "code",
   "execution_count": null,
   "metadata": {},
   "outputs": [],
   "source": [
    "i = 0\n",
    "for k, term in ontology.nodes.items():\n",
    "    if term.ancestor_ids == []:\n",
    "        #print(term.id)\n",
    "        i += 1\n",
    "print(i)"
   ]
  },
  {
   "cell_type": "code",
   "execution_count": null,
   "metadata": {},
   "outputs": [],
   "source": [
    "ontology.nodes['GO:0000001'].__dict__"
   ]
  },
  {
   "cell_type": "code",
   "execution_count": null,
   "metadata": {},
   "outputs": [],
   "source": [
    "ontology.get_full_ancestry('GO:0000001')"
   ]
  },
  {
   "cell_type": "code",
   "execution_count": null,
   "metadata": {},
   "outputs": [],
   "source": [
    "%%time \n",
    "importlib.reload(gograph)\n",
    "\n",
    "obo_fp = 'data/go-basic.obo'\n",
    "obo_file = open(obo_fp, 'r')\n",
    "\n",
    "def parse_ancestor_id(is_a):\n",
    "    \"\"\"\n",
    "    Extracts go term ids from 'is_a' and 'relatioship' field\n",
    "    \"\"\"\n",
    "    capture = re.search('(GO:\\d{7})\\s!\\s', is_a)\n",
    "    if capture:\n",
    "        return capture.group(1)\n",
    "\n",
    "go_list = {}\n",
    "blank_template = {'id': None, 'name': None, 'namespace': None,\n",
    "                  'def': None, 'is_a': []}\n",
    "\n",
    "go_dag = gograph.GoGraph()\n",
    "term_flag = False\n",
    "for line in obo_file:\n",
    "    capture = re.search('(.+):\\s(.+)\\n', line)\n",
    "    if line == '[Term]\\n':\n",
    "        term_flag = True\n",
    "    elif line == '\\n':\n",
    "        term_flag = False\n",
    "        \n",
    "    if capture and term_flag:\n",
    "        name = capture.group(1)\n",
    "        content = capture.group(2)\n",
    "        if name == 'id':\n",
    "            go_term = gograph.GoTerm(id_=content)\n",
    "            go_dag.add_node(go_term) # push term into tree\n",
    "        elif name == 'is_a' or name == 'relationship':\n",
    "            go_term.is_a.append(content)\n",
    "            go_term.ancestor_ids.append(parse_ancestor_id(content))\n",
    "        elif name == 'name':\n",
    "            go_term.name = content\n",
    "        elif name == 'namespace':\n",
    "            go_term.namespace = content\n",
    "        elif name == 'def':\n",
    "            go_term.definition = content\n",
    "\n",
    "obo_file.close()"
   ]
  },
  {
   "cell_type": "code",
   "execution_count": null,
   "metadata": {},
   "outputs": [],
   "source": [
    "go_dag.nodes['GO:0000015'].__dict__"
   ]
  },
  {
   "cell_type": "code",
   "execution_count": null,
   "metadata": {},
   "outputs": [],
   "source": [
    "go_dag.draw_connections()"
   ]
  },
  {
   "cell_type": "code",
   "execution_count": null,
   "metadata": {},
   "outputs": [],
   "source": [
    "t0 = time.time()\n",
    "h = {}\n",
    "\n",
    "i = 0\n",
    "for node in go_dag.nodes.values():\n",
    "    anc = traverse3(node)\n",
    "    h[node.id] = list(set(anc))\n",
    "    #i = i + 1\n",
    "    #if i % 1000 == 0 or i == len(go_dag.nodes):\n",
    "    #   bar = '*' * (i//1000)\n",
    "    #    print(bar, end='\\r')\n",
    "        #print(f'Progress {i}/{len(go_dag.nodes)} done', end='\\r')\n",
    "print()\n",
    "print('Wall time: ', time.time()-t0)\n",
    "#['GO:0000001'].ancestors"
   ]
  },
  {
   "cell_type": "code",
   "execution_count": null,
   "metadata": {},
   "outputs": [],
   "source": [
    "t0 = time.time()\n",
    "h = {}\n",
    "\n",
    "i = 0\n",
    "for node in go_dag.nodes.keys():\n",
    "    anc = traverse4(node)\n",
    "    h[node] = list(set(anc))\n",
    "    #i = i + 1\n",
    "    #if i % 1000 == 0 or i == len(go_dag.nodes):\n",
    "    #   bar = '*' * (i//1000)\n",
    "    #    print(bar, end='\\r')\n",
    "        #print(f'Progress {i}/{len(go_dag.nodes)} done', end='\\r')\n",
    "print()\n",
    "print('Wall time: ', time.time()-t0)\n",
    "#['GO:0000001'].ancestors"
   ]
  },
  {
   "cell_type": "code",
   "execution_count": null,
   "metadata": {},
   "outputs": [],
   "source": [
    "t0 = time.time()\n",
    "def traverse2(term):\n",
    "    all_ancestors = []\n",
    "    if term.ancestors == []:\n",
    "        all_ancestors.append(term.id)\n",
    "    else:\n",
    "        all_ancestors.append(term.id)\n",
    "        for t in term.ancestors:\n",
    "            all_ancestors.extend(traverse2(t))\n",
    "    return all_ancestors\n",
    "        \n",
    "    \n",
    "a = traverse2(go_dag.nodes['GO:0000001'])\n",
    "print(time.time()-t0)\n",
    "print(a)\n",
    "print(len(a))\n",
    "print(len(set(a)))"
   ]
  },
  {
   "cell_type": "code",
   "execution_count": null,
   "metadata": {},
   "outputs": [],
   "source": [
    "t0 = time.time()\n",
    "def traverse3(term):\n",
    "    all_ancestors = [term.id]\n",
    "    if term.ancestors != []:\n",
    "        for t in term.ancestors:\n",
    "            all_ancestors.extend(traverse3(t))\n",
    "    return all_ancestors\n",
    "        \n",
    "b = traverse3(go_dag.nodes['GO:0000001'])\n",
    "print(time.time()-t0)\n",
    "\n",
    "print(b)\n",
    "print(len(b))\n",
    "print(len(set(b)))"
   ]
  },
  {
   "cell_type": "code",
   "execution_count": null,
   "metadata": {},
   "outputs": [],
   "source": [
    "def traverse4(node_id):\n",
    "    \"\"\"\n",
    "    Traverse GO graph from given node to root\n",
    "\n",
    "    Attributes:\n",
    "        node_id : str\n",
    "            GO term id of node (ex: 'GO:0000001')\n",
    "    Return:\n",
    "        ancestors : list\n",
    "            list of acestor GO term ids\n",
    "\n",
    "    Note:\n",
    "        The list of ancestor ids will have duplicates, because\n",
    "        in the GO ontology children can have multiple parents and\n",
    "        so there are multiple paths leading to the root.\n",
    "\n",
    "        For example:\n",
    "\n",
    "                /C\\\n",
    "            A--B   F--root\n",
    "                \\D/\n",
    "\n",
    "        Calling traverse(A) will return\n",
    "            [A, B, C, F, root, D, F, root]\n",
    "\n",
    "    \"\"\"\n",
    "    ancestors = []\n",
    "\n",
    "    #f go_dag.nodes[node_id].ancestors == []:\n",
    "    #   return ancestors\n",
    "    if go_dag.nodes[node_id].ancestors != []:\n",
    "        for ancestor in go_dag.nodes[node_id].ancestors:\n",
    "            ancestors.append(ancestor.id)\n",
    "            ancestors.extend(traverse4(ancestor.id))\n",
    "\n",
    "    return ancestors\n",
    "\n",
    "t0 = time.time()\n",
    "b = traverse4('GO:0000001')\n",
    "print(time.time()-t0)\n",
    "print(b)\n",
    "print(len(b))\n",
    "print(len(set(b)))"
   ]
  },
  {
   "cell_type": "code",
   "execution_count": null,
   "metadata": {},
   "outputs": [],
   "source": [
    "from progress.bar import Bar"
   ]
  },
  {
   "cell_type": "code",
   "execution_count": null,
   "metadata": {},
   "outputs": [],
   "source": [
    "bar = Bar('Processing', max=20)\n",
    "for i in range(20):\n",
    "    # Do some work\n",
    "    bar.next()\n",
    "bar.finish()"
   ]
  },
  {
   "cell_type": "code",
   "execution_count": null,
   "metadata": {},
   "outputs": [],
   "source": [
    "# Print iterations progress\n",
    "def printProgressBar (iteration, total, prefix = '', suffix = '', decimals = 1, length = 100, fill = '█', printEnd = \"\\r\"):\n",
    "    \"\"\"\n",
    "    Call in a loop to create terminal progress bar\n",
    "    @params:\n",
    "        iteration   - Required  : current iteration (Int)\n",
    "        total       - Required  : total iterations (Int)\n",
    "        prefix      - Optional  : prefix string (Str)\n",
    "        suffix      - Optional  : suffix string (Str)\n",
    "        decimals    - Optional  : positive number of decimals in percent complete (Int)\n",
    "        length      - Optional  : character length of bar (Int)\n",
    "        fill        - Optional  : bar fill character (Str)\n",
    "        printEnd    - Optional  : end character (e.g. \"\\r\", \"\\r\\n\") (Str)\n",
    "    \n",
    "    author : https://stackoverflow.com/a/34325723\n",
    "    \"\"\"\n",
    "    percent = (\"{0:.\" + str(decimals) + \"f}\").format(100 * (iteration / float(total)))\n",
    "    filledLength = int(length * iteration // total)\n",
    "    bar = fill * filledLength + '-' * (length - filledLength)\n",
    "    print('%s |%s| %s%% %s' % (prefix, bar, percent, suffix), end = printEnd)\n",
    "    # Print New Line on Complete\n",
    "    if iteration == total: \n",
    "        print()"
   ]
  },
  {
   "cell_type": "code",
   "execution_count": null,
   "metadata": {},
   "outputs": [],
   "source": [
    "import time\n",
    "\n",
    "# A List of Items\n",
    "items = list(range(0, 57))\n",
    "l = len(items)\n",
    "\n",
    "# Initial call to print 0% progress\n",
    "printProgressBar(0, l, prefix = 'Progress:', suffix = 'Complete', length = 50)\n",
    "for i, item in enumerate(items):\n",
    "    # Do stuff...\n",
    "    time.sleep(0.1)\n",
    "    # Update Progress Bar\n",
    "    printProgressBar(i + 1, l, prefix = 'Progress:', suffix = 'Complete', length = 50)"
   ]
  },
  {
   "cell_type": "code",
   "execution_count": null,
   "metadata": {},
   "outputs": [],
   "source": [
    "10/5"
   ]
  },
  {
   "cell_type": "code",
   "execution_count": null,
   "metadata": {},
   "outputs": [],
   "source": []
  },
  {
   "cell_type": "code",
   "execution_count": null,
   "metadata": {},
   "outputs": [],
   "source": [
    "1+1"
   ]
  },
  {
   "cell_type": "code",
   "execution_count": null,
   "metadata": {},
   "outputs": [],
   "source": [
    "import numpy as np"
   ]
  },
  {
   "cell_type": "code",
   "execution_count": null,
   "metadata": {},
   "outputs": [],
   "source": [
    "np.array([[1,1],[1,1]]) * np.array([[10],[2]])"
   ]
  },
  {
   "cell_type": "code",
   "execution_count": null,
   "metadata": {},
   "outputs": [],
   "source": [
    "2+2"
   ]
  },
  {
   "cell_type": "code",
   "execution_count": null,
   "metadata": {},
   "outputs": [],
   "source": []
  }
 ],
 "metadata": {
  "kernelspec": {
   "display_name": "Python 3",
   "language": "python",
   "name": "python3"
  },
  "language_info": {
   "codemirror_mode": {
    "name": "ipython",
    "version": 3
   },
   "file_extension": ".py",
   "mimetype": "text/x-python",
   "name": "python",
   "nbconvert_exporter": "python",
   "pygments_lexer": "ipython3",
   "version": "3.7.3"
  }
 },
 "nbformat": 4,
 "nbformat_minor": 2
}
