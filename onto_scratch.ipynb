{
 "cells": [
  {
   "cell_type": "code",
   "execution_count": 1,
   "metadata": {},
   "outputs": [],
   "source": [
    "import gograph\n",
    "import similarity\n",
    "import importlib\n",
    "import re\n",
    "import time\n",
    "import annotations\n",
    "\n",
    "import pandas as pd\n",
    "import numpy as np"
   ]
  },
  {
   "cell_type": "code",
   "execution_count": 2,
   "metadata": {},
   "outputs": [],
   "source": [
    "def reload_my_modules():\n",
    "    \"\"\"Re-import my modules into the IPython shell\"\"\"\n",
    "    importlib.reload(annotations)\n",
    "    importlib.reload(gograph)\n",
    "    importlib.reload(similarity)"
   ]
  },
  {
   "cell_type": "code",
   "execution_count": 3,
   "metadata": {},
   "outputs": [
    {
     "name": "stdout",
     "output_type": "stream",
     "text": [
      "CPU times: user 1.06 s, sys: 92.1 ms, total: 1.16 s\n",
      "Wall time: 1.16 s\n"
     ]
    },
    {
     "name": "stderr",
     "output_type": "stream",
     "text": [
      "/home/xyz/.local/lib/python3.6/site-packages/IPython/core/magic.py:187: DtypeWarning: Columns (15) have mixed types.Specify dtype option on import or set low_memory=False.\n",
      "  call = lambda f, *a, **k: f(*a, **k)\n"
     ]
    }
   ],
   "source": [
    "%%time\n",
    "reload_my_modules()\n",
    "fp = 'data/goa_human.gaf'\n",
    "anno = annotations.Annotations(fp)"
   ]
  },
  {
   "cell_type": "code",
   "execution_count": 4,
   "metadata": {},
   "outputs": [
    {
     "name": "stdout",
     "output_type": "stream",
     "text": [
      "19735\n",
      "25.612515834811248\n",
      "0.00      1.0\n",
      "0.25      7.0\n",
      "0.50     15.0\n",
      "0.75     30.0\n",
      "1.00    914.0\n",
      "dtype: float64\n",
      "505463\n"
     ]
    }
   ],
   "source": [
    "# num proteins\n",
    "print(anno.annotations.groupby('DB_Object_ID').size().count())\n",
    "# num annos per protein\n",
    "print(anno.annotations.groupby('DB_Object_ID').size().mean())\n",
    "#\n",
    "print(anno.annotations.groupby('DB_Object_ID').size().quantile([0, 0.25, 0.5, 0.75, 1]))\n",
    "# total annos\n",
    "print(len(anno.annotations))"
   ]
  },
  {
   "cell_type": "code",
   "execution_count": 5,
   "metadata": {
    "scrolled": true
   },
   "outputs": [
    {
     "name": "stdout",
     "output_type": "stream",
     "text": [
      "CPU times: user 1.73 s, sys: 36.5 ms, total: 1.77 s\n",
      "Wall time: 1.77 s\n"
     ]
    }
   ],
   "source": [
    "%%time\n",
    "reload_my_modules()\n",
    "fp = 'data/go-basic.obo'\n",
    "#fp = 'data/gene_ontology_edit.obo.2019-07-01'\n",
    "ontology = gograph.OBOParser(fp).parse_ontology()"
   ]
  },
  {
   "cell_type": "code",
   "execution_count": 6,
   "metadata": {},
   "outputs": [
    {
     "name": "stdout",
     "output_type": "stream",
     "text": [
      "7.4651877880096436\n"
     ]
    }
   ],
   "source": [
    "t = time.time()\n",
    "ontology.make_ancestry_matrix()\n",
    "print(time.time()-t)"
   ]
  },
  {
   "cell_type": "code",
   "execution_count": 7,
   "metadata": {
    "scrolled": true
   },
   "outputs": [],
   "source": [
    "ontology.ancestry_matrix.matrix.setdiag(1)"
   ]
  },
  {
   "cell_type": "code",
   "execution_count": 8,
   "metadata": {},
   "outputs": [],
   "source": [
    "anno.annotations = anno.annotations.loc[anno.annotations.Aspect == 'P', :]"
   ]
  },
  {
   "cell_type": "code",
   "execution_count": 9,
   "metadata": {},
   "outputs": [
    {
     "data": {
      "text/plain": [
       "165155"
      ]
     },
     "execution_count": 9,
     "metadata": {},
     "output_type": "execute_result"
    }
   ],
   "source": [
    "len(anno.annotations)"
   ]
  },
  {
   "cell_type": "code",
   "execution_count": 10,
   "metadata": {
    "scrolled": true
   },
   "outputs": [
    {
     "name": "stderr",
     "output_type": "stream",
     "text": [
      "/home/xyz/Documents/CodeRepos/ggid/annotations.py:52: RuntimeWarning: divide by zero encountered in log10\n",
      "  self.information_content = -1*np.log10(self.deep_count.sum(axis=0)/self.deep_count.sum())\n"
     ]
    }
   ],
   "source": [
    "importlib.reload(annotations)\n",
    "ft = annotations.FrequencyTable(anno, ontology.ancestry_matrix)"
   ]
  },
  {
   "cell_type": "code",
   "execution_count": 11,
   "metadata": {},
   "outputs": [
    {
     "data": {
      "text/plain": [
       "1.3485159476242856"
      ]
     },
     "execution_count": 11,
     "metadata": {},
     "output_type": "execute_result"
    }
   ],
   "source": [
    "ft.ic['GO:0008150']\n",
    "#'GO:0008152'\n",
    "#'GO:0009987'"
   ]
  },
  {
   "cell_type": "code",
   "execution_count": 12,
   "metadata": {},
   "outputs": [
    {
     "data": {
      "text/plain": [
       "38807"
      ]
     },
     "execution_count": 12,
     "metadata": {},
     "output_type": "execute_result"
    }
   ],
   "source": [
    "ft.index_dict['GO:0120077']"
   ]
  },
  {
   "cell_type": "code",
   "execution_count": 13,
   "metadata": {},
   "outputs": [
    {
     "name": "stdout",
     "output_type": "stream",
     "text": [
      "17936\n"
     ]
    }
   ],
   "source": [
    "proteins = list(set(list(anno.annotations.DB_Object_Symbol)))\n",
    "print(len(proteins))"
   ]
  },
  {
   "cell_type": "code",
   "execution_count": 14,
   "metadata": {},
   "outputs": [
    {
     "data": {
      "text/plain": [
       "12369"
      ]
     },
     "execution_count": 14,
     "metadata": {},
     "output_type": "execute_result"
    }
   ],
   "source": [
    "len(set(anno.annotations.GO_ID))"
   ]
  },
  {
   "cell_type": "code",
   "execution_count": 64,
   "metadata": {},
   "outputs": [
    {
     "name": "stdout",
     "output_type": "stream",
     "text": [
      "512\n"
     ]
    }
   ],
   "source": [
    "reload_my_modules()\n",
    "\n",
    "#P25098 GRK2\n",
    "#P35626 GRK3\n",
    "\n",
    "sim = similarity.Similarity(anno, ontology, ft, list(p.uniprot), namespace='P', verbose=True)"
   ]
  },
  {
   "cell_type": "code",
   "execution_count": 18,
   "metadata": {},
   "outputs": [],
   "source": [
    "###old time (10)\n",
    "###11.857779264450073"
   ]
  },
  {
   "cell_type": "code",
   "execution_count": 25,
   "metadata": {
    "scrolled": true
   },
   "outputs": [
    {
     "name": "stdout",
     "output_type": "stream",
     "text": [
      "worker started\n",
      "worker started\n",
      "worker done 62.68014359474182\n",
      "worker done 63.451375007629395\n"
     ]
    }
   ],
   "source": [
    "sim.calculate_similarity_mult_cpu()"
   ]
  },
  {
   "cell_type": "code",
   "execution_count": 34,
   "metadata": {
    "scrolled": true
   },
   "outputs": [
    {
     "data": {
      "text/html": [
       "<div>\n",
       "<style scoped>\n",
       "    .dataframe tbody tr th:only-of-type {\n",
       "        vertical-align: middle;\n",
       "    }\n",
       "\n",
       "    .dataframe tbody tr th {\n",
       "        vertical-align: top;\n",
       "    }\n",
       "\n",
       "    .dataframe thead th {\n",
       "        text-align: right;\n",
       "    }\n",
       "</style>\n",
       "<table border=\"1\" class=\"dataframe\">\n",
       "  <thead>\n",
       "    <tr style=\"text-align: right;\">\n",
       "      <th></th>\n",
       "      <th>Unnamed: 0</th>\n",
       "      <th>gene_symbol</th>\n",
       "      <th>uniprot</th>\n",
       "    </tr>\n",
       "  </thead>\n",
       "  <tbody>\n",
       "    <tr>\n",
       "      <th>0</th>\n",
       "      <td>0</td>\n",
       "      <td>AKT1</td>\n",
       "      <td>P31749</td>\n",
       "    </tr>\n",
       "    <tr>\n",
       "      <th>1</th>\n",
       "      <td>1</td>\n",
       "      <td>AKT2</td>\n",
       "      <td>P31751</td>\n",
       "    </tr>\n",
       "    <tr>\n",
       "      <th>2</th>\n",
       "      <td>2</td>\n",
       "      <td>AKT3</td>\n",
       "      <td>Q9Y243</td>\n",
       "    </tr>\n",
       "    <tr>\n",
       "      <th>3</th>\n",
       "      <td>3</td>\n",
       "      <td>MRCKA</td>\n",
       "      <td>Q5VT25</td>\n",
       "    </tr>\n",
       "    <tr>\n",
       "      <th>4</th>\n",
       "      <td>4</td>\n",
       "      <td>MRCKB</td>\n",
       "      <td>Q9Y5S2</td>\n",
       "    </tr>\n",
       "  </tbody>\n",
       "</table>\n",
       "</div>"
      ],
      "text/plain": [
       "   Unnamed: 0 gene_symbol uniprot\n",
       "0           0        AKT1  P31749\n",
       "1           1        AKT2  P31751\n",
       "2           2        AKT3  Q9Y243\n",
       "3           3       MRCKA  Q5VT25\n",
       "4           4       MRCKB  Q9Y5S2"
      ]
     },
     "execution_count": 34,
     "metadata": {},
     "output_type": "execute_result"
    }
   ],
   "source": [
    "p = pd.read_csv('data/list_of_human_kinases.csv')\n",
    "p.head()"
   ]
  },
  {
   "cell_type": "code",
   "execution_count": 54,
   "metadata": {},
   "outputs": [
    {
     "data": {
      "text/html": [
       "<div>\n",
       "<style scoped>\n",
       "    .dataframe tbody tr th:only-of-type {\n",
       "        vertical-align: middle;\n",
       "    }\n",
       "\n",
       "    .dataframe tbody tr th {\n",
       "        vertical-align: top;\n",
       "    }\n",
       "\n",
       "    .dataframe thead th {\n",
       "        text-align: right;\n",
       "    }\n",
       "</style>\n",
       "<table border=\"1\" class=\"dataframe\">\n",
       "  <thead>\n",
       "    <tr style=\"text-align: right;\">\n",
       "      <th></th>\n",
       "      <th>DB</th>\n",
       "      <th>DB_Object_ID</th>\n",
       "      <th>DB_Object_Symbol</th>\n",
       "      <th>Qualifier</th>\n",
       "      <th>GO_ID</th>\n",
       "      <th>DB_Reference</th>\n",
       "      <th>Evidence_Code</th>\n",
       "      <th>With_or_From</th>\n",
       "      <th>Aspect</th>\n",
       "      <th>DB_Object_Name</th>\n",
       "      <th>DB_Object_Synonym</th>\n",
       "      <th>DB_Object_Type</th>\n",
       "      <th>Taxon</th>\n",
       "      <th>Date</th>\n",
       "      <th>Assigned_By</th>\n",
       "      <th>Annotation_Extension</th>\n",
       "      <th>Gene_Product_Form_ID</th>\n",
       "    </tr>\n",
       "  </thead>\n",
       "  <tbody>\n",
       "    <tr>\n",
       "      <th>281025</th>\n",
       "      <td>UniProtKB</td>\n",
       "      <td>Q5VT25</td>\n",
       "      <td>CDC42BPA</td>\n",
       "      <td>NaN</td>\n",
       "      <td>GO:0006468</td>\n",
       "      <td>PMID:9092543</td>\n",
       "      <td>IDA</td>\n",
       "      <td>NaN</td>\n",
       "      <td>P</td>\n",
       "      <td>Serine/threonine-protein kinase MRCK alpha</td>\n",
       "      <td>CDC42BPA|KIAA0451</td>\n",
       "      <td>protein</td>\n",
       "      <td>taxon:9606</td>\n",
       "      <td>20051004</td>\n",
       "      <td>UniProt</td>\n",
       "      <td>NaN</td>\n",
       "      <td>NaN</td>\n",
       "    </tr>\n",
       "    <tr>\n",
       "      <th>281026</th>\n",
       "      <td>UniProtKB</td>\n",
       "      <td>Q5VT25</td>\n",
       "      <td>CDC42BPA</td>\n",
       "      <td>NaN</td>\n",
       "      <td>GO:0016477</td>\n",
       "      <td>PMID:18854160</td>\n",
       "      <td>IMP</td>\n",
       "      <td>NaN</td>\n",
       "      <td>P</td>\n",
       "      <td>Serine/threonine-protein kinase MRCK alpha</td>\n",
       "      <td>CDC42BPA|KIAA0451</td>\n",
       "      <td>protein</td>\n",
       "      <td>taxon:9606</td>\n",
       "      <td>20110919</td>\n",
       "      <td>UniProt</td>\n",
       "      <td>NaN</td>\n",
       "      <td>NaN</td>\n",
       "    </tr>\n",
       "    <tr>\n",
       "      <th>281028</th>\n",
       "      <td>UniProtKB</td>\n",
       "      <td>Q5VT25</td>\n",
       "      <td>CDC42BPA</td>\n",
       "      <td>NaN</td>\n",
       "      <td>GO:0031032</td>\n",
       "      <td>PMID:18854160</td>\n",
       "      <td>IMP</td>\n",
       "      <td>NaN</td>\n",
       "      <td>P</td>\n",
       "      <td>Serine/threonine-protein kinase MRCK alpha</td>\n",
       "      <td>CDC42BPA|KIAA0451</td>\n",
       "      <td>protein</td>\n",
       "      <td>taxon:9606</td>\n",
       "      <td>20110919</td>\n",
       "      <td>UniProt</td>\n",
       "      <td>NaN</td>\n",
       "      <td>NaN</td>\n",
       "    </tr>\n",
       "    <tr>\n",
       "      <th>281030</th>\n",
       "      <td>UniProtKB</td>\n",
       "      <td>Q5VT25</td>\n",
       "      <td>CDC42BPA</td>\n",
       "      <td>NaN</td>\n",
       "      <td>GO:0031532</td>\n",
       "      <td>PMID:9418861</td>\n",
       "      <td>IDA</td>\n",
       "      <td>NaN</td>\n",
       "      <td>P</td>\n",
       "      <td>Serine/threonine-protein kinase MRCK alpha</td>\n",
       "      <td>CDC42BPA|KIAA0451</td>\n",
       "      <td>protein</td>\n",
       "      <td>taxon:9606</td>\n",
       "      <td>20051004</td>\n",
       "      <td>UniProt</td>\n",
       "      <td>NaN</td>\n",
       "      <td>NaN</td>\n",
       "    </tr>\n",
       "    <tr>\n",
       "      <th>281031</th>\n",
       "      <td>UniProtKB</td>\n",
       "      <td>Q5VT25</td>\n",
       "      <td>CDC42BPA</td>\n",
       "      <td>NaN</td>\n",
       "      <td>GO:0035556</td>\n",
       "      <td>GO_REF:0000002</td>\n",
       "      <td>IEA</td>\n",
       "      <td>InterPro:IPR002219</td>\n",
       "      <td>P</td>\n",
       "      <td>Serine/threonine-protein kinase MRCK alpha</td>\n",
       "      <td>CDC42BPA|KIAA0451</td>\n",
       "      <td>protein</td>\n",
       "      <td>taxon:9606</td>\n",
       "      <td>20200222</td>\n",
       "      <td>InterPro</td>\n",
       "      <td>NaN</td>\n",
       "      <td>NaN</td>\n",
       "    </tr>\n",
       "    <tr>\n",
       "      <th>453930</th>\n",
       "      <td>UniProtKB</td>\n",
       "      <td>Q5VT25</td>\n",
       "      <td>CDC42BPA</td>\n",
       "      <td>NaN</td>\n",
       "      <td>GO:0031032</td>\n",
       "      <td>PMID:21873635</td>\n",
       "      <td>IBA</td>\n",
       "      <td>FB:FBgn0002466|FB:FBgn0003149|FB:FBgn0026181|P...</td>\n",
       "      <td>P</td>\n",
       "      <td>Serine/threonine-protein kinase MRCK alpha</td>\n",
       "      <td>CDC42BPA|KIAA0451</td>\n",
       "      <td>protein</td>\n",
       "      <td>taxon:9606</td>\n",
       "      <td>20190308</td>\n",
       "      <td>GO_Central</td>\n",
       "      <td>NaN</td>\n",
       "      <td>NaN</td>\n",
       "    </tr>\n",
       "    <tr>\n",
       "      <th>498416</th>\n",
       "      <td>UniProtKB</td>\n",
       "      <td>Q5VT25</td>\n",
       "      <td>CDC42BPA</td>\n",
       "      <td>NaN</td>\n",
       "      <td>GO:0018107</td>\n",
       "      <td>PMID:21873635</td>\n",
       "      <td>IBA</td>\n",
       "      <td>MGI:MGI:107926|PANTHER:PTN002743840|UniProtKB:...</td>\n",
       "      <td>P</td>\n",
       "      <td>Serine/threonine-protein kinase MRCK alpha</td>\n",
       "      <td>CDC42BPA|KIAA0451</td>\n",
       "      <td>protein</td>\n",
       "      <td>taxon:9606</td>\n",
       "      <td>20190308</td>\n",
       "      <td>GO_Central</td>\n",
       "      <td>NaN</td>\n",
       "      <td>NaN</td>\n",
       "    </tr>\n",
       "  </tbody>\n",
       "</table>\n",
       "</div>"
      ],
      "text/plain": [
       "               DB DB_Object_ID DB_Object_Symbol Qualifier       GO_ID  \\\n",
       "281025  UniProtKB       Q5VT25         CDC42BPA       NaN  GO:0006468   \n",
       "281026  UniProtKB       Q5VT25         CDC42BPA       NaN  GO:0016477   \n",
       "281028  UniProtKB       Q5VT25         CDC42BPA       NaN  GO:0031032   \n",
       "281030  UniProtKB       Q5VT25         CDC42BPA       NaN  GO:0031532   \n",
       "281031  UniProtKB       Q5VT25         CDC42BPA       NaN  GO:0035556   \n",
       "453930  UniProtKB       Q5VT25         CDC42BPA       NaN  GO:0031032   \n",
       "498416  UniProtKB       Q5VT25         CDC42BPA       NaN  GO:0018107   \n",
       "\n",
       "          DB_Reference Evidence_Code  \\\n",
       "281025    PMID:9092543           IDA   \n",
       "281026   PMID:18854160           IMP   \n",
       "281028   PMID:18854160           IMP   \n",
       "281030    PMID:9418861           IDA   \n",
       "281031  GO_REF:0000002           IEA   \n",
       "453930   PMID:21873635           IBA   \n",
       "498416   PMID:21873635           IBA   \n",
       "\n",
       "                                             With_or_From Aspect  \\\n",
       "281025                                                NaN      P   \n",
       "281026                                                NaN      P   \n",
       "281028                                                NaN      P   \n",
       "281030                                                NaN      P   \n",
       "281031                                 InterPro:IPR002219      P   \n",
       "453930  FB:FBgn0002466|FB:FBgn0003149|FB:FBgn0026181|P...      P   \n",
       "498416  MGI:MGI:107926|PANTHER:PTN002743840|UniProtKB:...      P   \n",
       "\n",
       "                                    DB_Object_Name  DB_Object_Synonym  \\\n",
       "281025  Serine/threonine-protein kinase MRCK alpha  CDC42BPA|KIAA0451   \n",
       "281026  Serine/threonine-protein kinase MRCK alpha  CDC42BPA|KIAA0451   \n",
       "281028  Serine/threonine-protein kinase MRCK alpha  CDC42BPA|KIAA0451   \n",
       "281030  Serine/threonine-protein kinase MRCK alpha  CDC42BPA|KIAA0451   \n",
       "281031  Serine/threonine-protein kinase MRCK alpha  CDC42BPA|KIAA0451   \n",
       "453930  Serine/threonine-protein kinase MRCK alpha  CDC42BPA|KIAA0451   \n",
       "498416  Serine/threonine-protein kinase MRCK alpha  CDC42BPA|KIAA0451   \n",
       "\n",
       "       DB_Object_Type       Taxon      Date Assigned_By Annotation_Extension  \\\n",
       "281025        protein  taxon:9606  20051004     UniProt                  NaN   \n",
       "281026        protein  taxon:9606  20110919     UniProt                  NaN   \n",
       "281028        protein  taxon:9606  20110919     UniProt                  NaN   \n",
       "281030        protein  taxon:9606  20051004     UniProt                  NaN   \n",
       "281031        protein  taxon:9606  20200222    InterPro                  NaN   \n",
       "453930        protein  taxon:9606  20190308  GO_Central                  NaN   \n",
       "498416        protein  taxon:9606  20190308  GO_Central                  NaN   \n",
       "\n",
       "        Gene_Product_Form_ID  \n",
       "281025                   NaN  \n",
       "281026                   NaN  \n",
       "281028                   NaN  \n",
       "281030                   NaN  \n",
       "281031                   NaN  \n",
       "453930                   NaN  \n",
       "498416                   NaN  "
      ]
     },
     "execution_count": 54,
     "metadata": {},
     "output_type": "execute_result"
    }
   ],
   "source": [
    "anno.annotations[anno.annotations.DB_Object_ID == 'Q5VT25']"
   ]
  },
  {
   "cell_type": "code",
   "execution_count": null,
   "metadata": {},
   "outputs": [],
   "source": [
    "print(\"hi\")"
   ]
  },
  {
   "cell_type": "code",
   "execution_count": null,
   "metadata": {},
   "outputs": [],
   "source": [
    "print(sim.workers)"
   ]
  },
  {
   "cell_type": "code",
   "execution_count": 65,
   "metadata": {
    "scrolled": true
   },
   "outputs": [
    {
     "name": "stdout",
     "output_type": "stream",
     "text": [
      "57.414551734924316\n",
      "63308945\n"
     ]
    }
   ],
   "source": [
    "t0 = time.time()\n",
    "sim.calculate_similarity()\n",
    "print(time.time() - t0)\n",
    "print(sim.counter)"
   ]
  },
  {
   "cell_type": "code",
   "execution_count": 63,
   "metadata": {},
   "outputs": [
    {
     "data": {
      "text/plain": [
       "<4x5 sparse matrix of type '<class 'numpy.float64'>'\n",
       "\twith 10 stored elements in COOrdinate format>"
      ]
     },
     "execution_count": 63,
     "metadata": {},
     "output_type": "execute_result"
    }
   ],
   "source": [
    "sim.sim_matrix"
   ]
  },
  {
   "cell_type": "code",
   "execution_count": 24,
   "metadata": {},
   "outputs": [
    {
     "data": {
      "text/plain": [
       "216.0"
      ]
     },
     "execution_count": 24,
     "metadata": {},
     "output_type": "execute_result"
    }
   ],
   "source": [
    "54*((1000/500)**2)"
   ]
  },
  {
   "cell_type": "code",
   "execution_count": null,
   "metadata": {},
   "outputs": [],
   "source": [
    "sim.get_ic_mica('GO:0006807', 'GO:0006807')"
   ]
  },
  {
   "cell_type": "code",
   "execution_count": null,
   "metadata": {},
   "outputs": [],
   "source": [
    "import copy\n",
    "sim2 = copy.copy(sim)\n",
    "sim3 = copy.copy(sim)\n",
    "sim4 = copy.copy(sim)\n",
    "sim5 = copy.copy(sim)"
   ]
  },
  {
   "cell_type": "code",
   "execution_count": null,
   "metadata": {},
   "outputs": [],
   "source": [
    "print(id(sim))\n",
    "print(id(sim2))\n",
    "print(id(sim3))"
   ]
  },
  {
   "cell_type": "code",
   "execution_count": null,
   "metadata": {},
   "outputs": [],
   "source": [
    "import multiprocessing\n",
    "\n",
    "def function_inside_worker():\n",
    "    print(\"hi\")\n",
    "\n",
    "def twoplustwo(x):\n",
    "    return 2+2\n",
    "\n",
    "def worker(x):\n",
    "    \"\"\"thread worker function\"\"\"\n",
    "    print(\"worker started\")\n",
    "    print(twoplustwo(x))\n",
    "    print(len(x))\n",
    "    print(\"worker exited\")\n",
    "    #print(id(x))\n",
    "\n",
    "\n",
    "#print(time.time()-t0)\n",
    "\n"
   ]
  },
  {
   "cell_type": "code",
   "execution_count": null,
   "metadata": {},
   "outputs": [],
   "source": [
    "divmod(1999, 3)"
   ]
  },
  {
   "cell_type": "code",
   "execution_count": null,
   "metadata": {},
   "outputs": [],
   "source": [
    "ll = list(range(1355))\n",
    "\n",
    "cpus = 4\n",
    "a,b = divmod(len(ll),cpus)\n",
    "print(a, b)\n",
    "\n",
    "workers = []\n",
    "for i in range(cpus):\n",
    "    segment = ll[i*a:(i*a+a)]\n",
    "    if i == cpus-1:\n",
    "        segment = ll[i*a:]\n",
    "    print(len(segment))\n",
    "    p = multiprocessing.Process(target=worker, args=(segment,))\n",
    "    workers.append(p)\n",
    "\n",
    "for p in workers:\n",
    "    p.start()"
   ]
  },
  {
   "cell_type": "code",
   "execution_count": null,
   "metadata": {},
   "outputs": [],
   "source": [
    "ll[0:2]"
   ]
  },
  {
   "cell_type": "code",
   "execution_count": null,
   "metadata": {},
   "outputs": [],
   "source": [
    "print(id(sim4.ic_mica))\n",
    "print(id(sim5.ic_mica))"
   ]
  },
  {
   "cell_type": "code",
   "execution_count": null,
   "metadata": {},
   "outputs": [],
   "source": [
    "import multiprocessing\n",
    "import time\n",
    "\n",
    "def worker():\n",
    "    name = multiprocessing.current_process().name\n",
    "    print(name, 'Starting')\n",
    "    time.sleep(2)\n",
    "    print(name, 'Exiting')\n",
    "\n",
    "def my_service():\n",
    "    name = multiprocessing.current_process().name\n",
    "    print(name, 'Starting')\n",
    "    time.sleep(3)\n",
    "    print(name, 'Exiting')\n",
    "\n",
    "service = multiprocessing.Process(name='my_service', target=my_service)\n",
    "worker_1 = multiprocessing.Process(name='worker 1', target=worker)\n",
    "worker_2 = multiprocessing.Process(target=worker) # use default name\n",
    "\n",
    "worker_1.start()\n",
    "worker_2.start()\n",
    "service.start()"
   ]
  },
  {
   "cell_type": "code",
   "execution_count": null,
   "metadata": {},
   "outputs": [],
   "source": []
  }
 ],
 "metadata": {
  "kernelspec": {
   "display_name": "Python 3",
   "language": "python",
   "name": "python3"
  },
  "language_info": {
   "codemirror_mode": {
    "name": "ipython",
    "version": 3
   },
   "file_extension": ".py",
   "mimetype": "text/x-python",
   "name": "python",
   "nbconvert_exporter": "python",
   "pygments_lexer": "ipython3",
   "version": "3.6.10"
  }
 },
 "nbformat": 4,
 "nbformat_minor": 2
}
