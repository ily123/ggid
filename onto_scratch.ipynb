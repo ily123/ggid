{
 "cells": [
  {
   "cell_type": "code",
   "execution_count": 7,
   "metadata": {},
   "outputs": [],
   "source": [
    "import gograph\n",
    "import importlib\n",
    "import re\n",
    "import time"
   ]
  },
  {
   "cell_type": "code",
   "execution_count": 73,
   "metadata": {},
   "outputs": [
    {
     "name": "stdout",
     "output_type": "stream",
     "text": [
      "CPU times: user 1.54 s, sys: 19.9 ms, total: 1.56 s\n",
      "Wall time: 1.57 s\n"
     ]
    }
   ],
   "source": [
    "%%time \n",
    "importlib.reload(gograph)\n",
    "\n",
    "obo_fp = 'data/go-basic.obo'\n",
    "obo_file = open(obo_fp, 'r')\n",
    "\n",
    "\n",
    "go_list = {}\n",
    "blank_template = {'id': None, 'name': None, 'namespace': None,\n",
    "                  'def': None, 'is_a': []}\n",
    "\n",
    "for line in obo_file:\n",
    "    capture = re.search('(.+):\\s(.+)\\n', line)\n",
    "    if capture:\n",
    "        name = capture.group(1)\n",
    "        content = capture.group(2)\n",
    "        if name == 'id':\n",
    "            go_term = gograph.GoTerm(id_=content)\n",
    "            go_list[content] = go_term # push term into term dict\n",
    "        elif name == 'is_a':\n",
    "            go_term.is_a.append(content)\n",
    "        elif name == 'name':\n",
    "            go_term.name = content\n",
    "        elif name == 'namespace':\n",
    "            go_term.namespace = content\n",
    "        elif name == 'def':\n",
    "            go_term.definition = content\n",
    "\n",
    "obo_file.close()"
   ]
  },
  {
   "cell_type": "code",
   "execution_count": 61,
   "metadata": {},
   "outputs": [
    {
     "data": {
      "text/plain": [
       "47438"
      ]
     },
     "execution_count": 61,
     "metadata": {},
     "output_type": "execute_result"
    }
   ],
   "source": [
    "len(go_list)"
   ]
  },
  {
   "cell_type": "code",
   "execution_count": 74,
   "metadata": {},
   "outputs": [
    {
     "data": {
      "text/plain": [
       "{'id': 'GO:0000001',\n",
       " 'namespace': 'biological_process',\n",
       " 'definition': '\"The distribution of mitochondria, including the mitochondrial genome, into daughter cells after mitosis or meiosis, mediated by interactions between mitochondria and the cytoskeleton.\" [GOC:mcc, PMID:10873824, PMID:11389764]',\n",
       " 'is_a': ['GO:0048308 ! organelle inheritance',\n",
       "  'GO:0048311 ! mitochondrion distribution'],\n",
       " 'name': 'mitochondrion inheritance'}"
      ]
     },
     "execution_count": 74,
     "metadata": {},
     "output_type": "execute_result"
    }
   ],
   "source": [
    "go_list['GO:0000001'].__dict__"
   ]
  },
  {
   "cell_type": "code",
   "execution_count": 31,
   "metadata": {},
   "outputs": [
    {
     "data": {
      "text/plain": [
       "False"
      ]
     },
     "execution_count": 31,
     "metadata": {},
     "output_type": "execute_result"
    }
   ],
   "source": [
    "go_list = {}\n",
    "None in go_list"
   ]
  },
  {
   "cell_type": "code",
   "execution_count": 34,
   "metadata": {},
   "outputs": [
    {
     "name": "stdout",
     "output_type": "stream",
     "text": [
      "b\n"
     ]
    }
   ],
   "source": [
    "a = 1\n",
    "\n",
    "if a == 2:\n",
    "    print('a')\n",
    "elif a*10 == 10:\n",
    "    print('b')\n",
    "else:\n",
    "    print('c')\n"
   ]
  },
  {
   "cell_type": "code",
   "execution_count": 44,
   "metadata": {},
   "outputs": [
    {
     "name": "stdout",
     "output_type": "stream",
     "text": [
      "{'a': 1, 'b': 2}\n"
     ]
    }
   ],
   "source": [
    "class test_abc:\n",
    "    def __init__(self, a=None, b=None):\n",
    "        self.a = a\n",
    "        self.b = b\n",
    "\n",
    "a = test_abc(1, b=2)\n",
    "\n",
    "print(a.__dict__)"
   ]
  },
  {
   "cell_type": "code",
   "execution_count": 56,
   "metadata": {},
   "outputs": [
    {
     "name": "stdout",
     "output_type": "stream",
     "text": [
      "1\n"
     ]
    }
   ],
   "source": [
    "print(1 if 1 < 2 else 'a')"
   ]
  },
  {
   "cell_type": "code",
   "execution_count": null,
   "metadata": {},
   "outputs": [],
   "source": []
  }
 ],
 "metadata": {
  "kernelspec": {
   "display_name": "Python 3",
   "language": "python",
   "name": "python3"
  },
  "language_info": {
   "codemirror_mode": {
    "name": "ipython",
    "version": 3
   },
   "file_extension": ".py",
   "mimetype": "text/x-python",
   "name": "python",
   "nbconvert_exporter": "python",
   "pygments_lexer": "ipython3",
   "version": "3.7.3"
  }
 },
 "nbformat": 4,
 "nbformat_minor": 2
}
