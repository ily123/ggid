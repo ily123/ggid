{
 "cells": [
  {
   "cell_type": "code",
   "execution_count": 46,
   "metadata": {},
   "outputs": [],
   "source": [
    "import pandas as pd\n",
    "import numpy as np\n",
    "import matplotlib.pyplot as plt\n",
    "\n"
   ]
  },
  {
   "cell_type": "code",
   "execution_count": 6,
   "metadata": {},
   "outputs": [],
   "source": [
    "fp = '~/Data/go_annotations/goa_human.gaf'"
   ]
  },
  {
   "cell_type": "code",
   "execution_count": 7,
   "metadata": {},
   "outputs": [],
   "source": [
    "header = ['DB',\n",
    "          'DB_Object_ID',\n",
    "          'DB_Object_Symbol',\n",
    "          'Qualifier',\n",
    "          'GO_ID',\n",
    "          'DB_Reference',\n",
    "          'Evidence_Code',\n",
    "          'With_or_From',\n",
    "          'Aspect',\n",
    "          'DB_Object_Name',\n",
    "          'DB_Object_Synonym',\n",
    "          'DB_Object_Type',\n",
    "          'Taxon',\n",
    "          'Date',\n",
    "          'Assigned_By',\n",
    "          'Annotation_Extension',\n",
    "          'Gene_Product_Form_ID']"
   ]
  },
  {
   "cell_type": "code",
   "execution_count": 8,
   "metadata": {},
   "outputs": [],
   "source": [
    "t = pd.read_csv(fp, header=None, sep='\\t', comment='!')"
   ]
  },
  {
   "cell_type": "code",
   "execution_count": 9,
   "metadata": {},
   "outputs": [],
   "source": [
    "t.columns = header"
   ]
  },
  {
   "cell_type": "code",
   "execution_count": 10,
   "metadata": {},
   "outputs": [
    {
     "data": {
      "text/plain": [
       "DB                      0.000000\n",
       "DB_Object_ID            0.000000\n",
       "DB_Object_Symbol        0.000000\n",
       "Qualifier               0.991618\n",
       "GO_ID                   0.000000\n",
       "DB_Reference            0.000000\n",
       "Evidence_Code           0.000000\n",
       "With_or_From            0.453936\n",
       "Aspect                  0.000000\n",
       "DB_Object_Name          0.000000\n",
       "DB_Object_Synonym       0.000470\n",
       "DB_Object_Type          0.000000\n",
       "Taxon                   0.000000\n",
       "Date                    0.000000\n",
       "Assigned_By             0.000000\n",
       "Annotation_Extension    0.947632\n",
       "Gene_Product_Form_ID    1.000000\n",
       "dtype: float64"
      ]
     },
     "execution_count": 10,
     "metadata": {},
     "output_type": "execute_result"
    }
   ],
   "source": [
    "t.isnull().sum() / len(t)"
   ]
  },
  {
   "cell_type": "code",
   "execution_count": 12,
   "metadata": {},
   "outputs": [
    {
     "data": {
      "text/plain": [
       "Text(0.5, 1.0, '4 of the top 5 sources of annotations are experimental')"
      ]
     },
     "execution_count": 12,
     "metadata": {},
     "output_type": "execute_result"
    },
    {
     "data": {
      "image/png": "[encoded data removed]",
      "text/plain": [
       "<Figure size 864x288 with 1 Axes>"
      ]
     },
     "metadata": {
      "needs_background": "light"
     },
     "output_type": "display_data"
    }
   ],
   "source": [
    "ax = t.Evidence_Code.value_counts().plot.bar(y='Evidence_Code', x='index', figsize=(12,4))\n",
    "ax.set_xticklabels(t.Evidence_Code.value_counts().index, rotation=0);\n",
    "\n",
    "ax.set_title('4 of the top 5 sources of annotations are experimental')\n",
    "\n",
    "# TAS - Traceable Author Statement\n",
    "# IPI - Inferred from Physical Interaction\n",
    "# IDA - Inferred from Direct Assay\n",
    "# IEA - Inferred from Electronic Annotation\n",
    "# IBA - Inferred from Biological aspect of Ancestor\n",
    "#\n",
    "# http://geneontology.org/docs/guide-go-evidence-codes/\n",
    "\n"
   ]
  },
  {
   "cell_type": "code",
   "execution_count": 13,
   "metadata": {},
   "outputs": [
    {
     "data": {
      "text/plain": [
       "TP53      909\n",
       "GRB2      693\n",
       "EGFR      692\n",
       "UBC       613\n",
       "CTNNB1    606\n",
       "RPS27A    559\n",
       "UBB       549\n",
       "UBA52     544\n",
       "LRRK2     504\n",
       "SRC       470\n",
       "Name: DB_Object_Symbol, dtype: int64"
      ]
     },
     "execution_count": 13,
     "metadata": {},
     "output_type": "execute_result"
    }
   ],
   "source": [
    "protein_num_anno = t.DB_Object_Symbol.value_counts()\n",
    "protein_num_anno.head(10)"
   ]
  },
  {
   "cell_type": "code",
   "execution_count": 60,
   "metadata": {},
   "outputs": [
    {
     "data": {
      "text/plain": [
       "0.631578947368421"
      ]
     },
     "execution_count": 60,
     "metadata": {},
     "output_type": "execute_result"
    }
   ],
   "source": [
    "12/19"
   ]
  },
  {
   "cell_type": "code",
   "execution_count": 68,
   "metadata": {},
   "outputs": [
    {
     "data": {
      "text/plain": [
       "Text(0, 0.5, 'Number proteins')"
      ]
     },
     "execution_count": 68,
     "metadata": {},
     "output_type": "execute_result"
    },
    {
     "data": {
      "image/png": "[encoded data removed]",
      "text/plain": [
       "<Figure size 432x288 with 1 Axes>"
      ]
     },
     "metadata": {
      "needs_background": "light"
     },
     "output_type": "display_data"
    }
   ],
   "source": [
    "plt.hist(protein_num_anno, list(range(0,200,10)))\n",
    "plt.xticks(list(range(0,200,20)))\n",
    "plt.title('~62% proteins have fewer than 20 annotations')\n",
    "plt.xlabel('Number assigned annotations')\n",
    "plt.ylabel('Number proteins')\n",
    "#plt.bar(list(range(0,binned.count(),1)), binned)"
   ]
  },
  {
   "cell_type": "code",
   "execution_count": 67,
   "metadata": {},
   "outputs": [
    {
     "data": {
      "text/plain": [
       "(0, 10]       0.382910\n",
       "(10, 20]      0.239427\n",
       "(20, 30]      0.135127\n",
       "(30, 40]      0.075563\n",
       "(40, 50]      0.047743\n",
       "(50, 60]      0.030572\n",
       "(60, 70]      0.019311\n",
       "(70, 80]      0.015897\n",
       "(80, 90]      0.010547\n",
       "(90, 100]     0.008713\n",
       "(100, 110]    0.006777\n",
       "(110, 120]    0.004637\n",
       "(120, 130]    0.003618\n",
       "(140, 150]    0.003159\n",
       "(130, 140]    0.002802\n",
       "(150, 160]    0.002395\n",
       "(180, 190]    0.001630\n",
       "(170, 180]    0.001223\n",
       "(160, 170]    0.000968\n",
       "(190, 200]    0.000968\n",
       "(200, 210]    0.000764\n",
       "(220, 230]    0.000662\n",
       "(210, 220]    0.000611\n",
       "(270, 280]    0.000459\n",
       "(240, 250]    0.000408\n",
       "(260, 270]    0.000408\n",
       "(250, 260]    0.000408\n",
       "(230, 240]    0.000357\n",
       "(310, 320]    0.000255\n",
       "(320, 330]    0.000204\n",
       "                ...   \n",
       "(920, 930]    0.000000\n",
       "(930, 940]    0.000000\n",
       "(940, 950]    0.000000\n",
       "(950, 960]    0.000000\n",
       "(960, 970]    0.000000\n",
       "(970, 980]    0.000000\n",
       "(770, 780]    0.000000\n",
       "(750, 760]    0.000000\n",
       "(480, 490]    0.000000\n",
       "(740, 750]    0.000000\n",
       "(980, 990]    0.000000\n",
       "(510, 520]    0.000000\n",
       "(520, 530]    0.000000\n",
       "(530, 540]    0.000000\n",
       "(560, 570]    0.000000\n",
       "(570, 580]    0.000000\n",
       "(580, 590]    0.000000\n",
       "(590, 600]    0.000000\n",
       "(620, 630]    0.000000\n",
       "(630, 640]    0.000000\n",
       "(640, 650]    0.000000\n",
       "(650, 660]    0.000000\n",
       "(660, 670]    0.000000\n",
       "(670, 680]    0.000000\n",
       "(680, 690]    0.000000\n",
       "(700, 710]    0.000000\n",
       "(710, 720]    0.000000\n",
       "(720, 730]    0.000000\n",
       "(730, 740]    0.000000\n",
       "(490, 500]    0.000000\n",
       "Name: DB_Object_Symbol, Length: 100, dtype: float64"
      ]
     },
     "execution_count": 67,
     "metadata": {},
     "output_type": "execute_result"
    }
   ],
   "source": [
    "binned = pd.cut(protein_num_anno, list(range(0,max(protein_num_anno)+100,10))).value_counts()\n",
    "binned/sum(binned)"
   ]
  },
  {
   "cell_type": "code",
   "execution_count": null,
   "metadata": {},
   "outputs": [],
   "source": []
  }
 ],
 "metadata": {
  "kernelspec": {
   "display_name": "Python 3",
   "language": "python",
   "name": "python3"
  },
  "language_info": {
   "codemirror_mode": {
    "name": "ipython",
    "version": 3
   },
   "file_extension": ".py",
   "mimetype": "text/x-python",
   "name": "python",
   "nbconvert_exporter": "python",
   "pygments_lexer": "ipython3",
   "version": "3.7.3"
  }
 },
 "nbformat": 4,
 "nbformat_minor": 2
}
