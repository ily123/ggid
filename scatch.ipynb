{
 "cells": [
  {
   "cell_type": "code",
   "execution_count": 48,
   "metadata": {},
   "outputs": [],
   "source": [
    "import re"
   ]
  },
  {
   "cell_type": "code",
   "execution_count": 11,
   "metadata": {},
   "outputs": [
    {
     "name": "stdout",
     "output_type": "stream",
     "text": [
      "<re.Match object; span=(6, 19), match='GO:1902494 ! '>\n"
     ]
    },
    {
     "data": {
      "text/plain": [
       "'GO:1902494'"
      ]
     },
     "execution_count": 11,
     "metadata": {},
     "output_type": "execute_result"
    }
   ],
   "source": [
    "def parse_ancestor_id(is_a):\n",
    "    \"\"\"\n",
    "    Extracts ancestor ids from is_a var\n",
    "    \"\"\"\n",
    "    capture = re.search('(GO:\\d{7})\\s!\\s', is_a)\n",
    "    print(capture)\n",
    "    if capture:\n",
    "        return capture.group(1)\n",
    "    \n",
    "ll = 'relationship: part_of GO:0005829 ! cytosol'\n",
    "abc = 'is_a: GO:1902494 ! catalytic complex'\n",
    "\n",
    "parse_ancestor_id(abc)"
   ]
  },
  {
   "cell_type": "code",
   "execution_count": 5,
   "metadata": {},
   "outputs": [
    {
     "name": "stdout",
     "output_type": "stream",
     "text": [
      "None\n"
     ]
    }
   ],
   "source": [
    "print(re.match('(GO:\\d{7})\\s!\\s', abc))"
   ]
  },
  {
   "cell_type": "code",
   "execution_count": 8,
   "metadata": {},
   "outputs": [
    {
     "name": "stdout",
     "output_type": "stream",
     "text": [
      "'is_a: GO:1902494 ! catalytic complex'\n"
     ]
    }
   ],
   "source": [
    "print('\\'' + abc + '\\'')"
   ]
  },
  {
   "cell_type": "code",
   "execution_count": 10,
   "metadata": {},
   "outputs": [],
   "source": [
    "re.match('abc', 'dabc')"
   ]
  },
  {
   "cell_type": "code",
   "execution_count": 31,
   "metadata": {},
   "outputs": [],
   "source": [
    "import importlib\n",
    "import kinapp_helper"
   ]
  },
  {
   "cell_type": "code",
   "execution_count": 46,
   "metadata": {},
   "outputs": [
    {
     "data": {
      "text/plain": [
       "['CDC7', 'AURKB', 'CDC7']"
      ]
     },
     "execution_count": 46,
     "metadata": {},
     "output_type": "execute_result"
    }
   ],
   "source": [
    "importlib.reload(kinapp_helper)\n",
    "helper = kinapp_helper.InputValidator()\n",
    "#AURKA, AURKB, CDC7\n",
    "helper.validate_inputs(['CdC7', 'AURKB', 'CDC7'])"
   ]
  },
  {
   "cell_type": "code",
   "execution_count": 58,
   "metadata": {},
   "outputs": [
    {
     "name": "stdout",
     "output_type": "stream",
     "text": [
      "['aa_', 'fdsfs', 'fdsfs', 'fdsfds']\n"
     ]
    }
   ],
   "source": [
    "result = re.findall('\\w+', 'aa_, fdsfs,fdsfs fdsfds')\n",
    "print(result)"
   ]
  },
  {
   "cell_type": "code",
   "execution_count": 80,
   "metadata": {},
   "outputs": [
    {
     "name": "stdout",
     "output_type": "stream",
     "text": [
      "['JFK', 'MUC', 'JFK', 'MUC', 'LHR', 'SFO', 'SJC']\n"
     ]
    }
   ],
   "source": [
    "import collections\n",
    "tickets = [[\"MUC\", \"LHR\"], [\"JFK\", \"MUC\"],\n",
    "           [\"SFO\", \"SJC\"], [\"LHR\", \"SFO\"],\n",
    "           [\"MUC\", \"JFK\"], [\"JFK\", \"MUC\"]]\n",
    "\n",
    "def findItinerary(tickets):\n",
    "    targets = collections.defaultdict(list)\n",
    "    for a, b in sorted(tickets)[::-1]:\n",
    "        targets[a].append(b)\n",
    "    route = []\n",
    "    def visit(airport):\n",
    "        while targets[airport]:\n",
    "            visit(targets[airport].pop())\n",
    "        route.append(airport)\n",
    "    visit('JFK')\n",
    "    return route[::-1]\n",
    "\n",
    "print(findItinerary(tickets))"
   ]
  },
  {
   "cell_type": "code",
   "execution_count": 79,
   "metadata": {},
   "outputs": [
    {
     "name": "stdout",
     "output_type": "stream",
     "text": [
      "SFO SJC\n",
      "MUC LHR\n",
      "LHR SFO\n",
      "JFK MUC\n",
      "defaultdict(<class 'list'>, {'SFO': ['SJC'], 'MUC': ['LHR'], 'LHR': ['SFO'], 'JFK': ['MUC']})\n",
      "['SJC', 'SFO', 'LHR', 'MUC', 'JFK']\n"
     ]
    }
   ],
   "source": [
    "targets = collections.defaultdict(list)\n",
    "for a, b in sorted(tickets)[::-1]:\n",
    "    print(a, b)\n",
    "    targets[a].append(b)\n",
    "print(targets)\n",
    "route = []\n",
    "def visit(airport):\n",
    "    while targets[airport]:\n",
    "        visit(targets[airport].pop())\n",
    "    route.append(airport)\n",
    "visit('JFK')\n",
    "print(route)"
   ]
  },
  {
   "cell_type": "code",
   "execution_count": 72,
   "metadata": {},
   "outputs": [
    {
     "name": "stdout",
     "output_type": "stream",
     "text": [
      "aaa\n"
     ]
    }
   ],
   "source": [
    "a='aaa'\n",
    "h['a'] = []\n",
    "h[]"
   ]
  },
  {
   "cell_type": "code",
   "execution_count": null,
   "metadata": {},
   "outputs": [],
   "source": []
  }
 ],
 "metadata": {
  "kernelspec": {
   "display_name": "Python 3",
   "language": "python",
   "name": "python3"
  },
  "language_info": {
   "codemirror_mode": {
    "name": "ipython",
    "version": 3
   },
   "file_extension": ".py",
   "mimetype": "text/x-python",
   "name": "python",
   "nbconvert_exporter": "python",
   "pygments_lexer": "ipython3",
   "version": "3.6.9"
  }
 },
 "nbformat": 4,
 "nbformat_minor": 2
}
