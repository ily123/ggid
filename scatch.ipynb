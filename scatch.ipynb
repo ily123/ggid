{
 "cells": [
  {
   "cell_type": "code",
   "execution_count": 1,
   "metadata": {},
   "outputs": [],
   "source": [
    "import re"
   ]
  },
  {
   "cell_type": "code",
   "execution_count": 11,
   "metadata": {},
   "outputs": [
    {
     "name": "stdout",
     "output_type": "stream",
     "text": [
      "<re.Match object; span=(6, 19), match='GO:1902494 ! '>\n"
     ]
    },
    {
     "data": {
      "text/plain": [
       "'GO:1902494'"
      ]
     },
     "execution_count": 11,
     "metadata": {},
     "output_type": "execute_result"
    }
   ],
   "source": [
    "def parse_ancestor_id(is_a):\n",
    "    \"\"\"\n",
    "    Extracts ancestor ids from is_a var\n",
    "    \"\"\"\n",
    "    capture = re.search('(GO:\\d{7})\\s!\\s', is_a)\n",
    "    print(capture)\n",
    "    if capture:\n",
    "        return capture.group(1)\n",
    "    \n",
    "ll = 'relationship: part_of GO:0005829 ! cytosol'\n",
    "abc = 'is_a: GO:1902494 ! catalytic complex'\n",
    "\n",
    "parse_ancestor_id(abc)"
   ]
  },
  {
   "cell_type": "code",
   "execution_count": 5,
   "metadata": {},
   "outputs": [
    {
     "name": "stdout",
     "output_type": "stream",
     "text": [
      "None\n"
     ]
    }
   ],
   "source": [
    "print(re.match('(GO:\\d{7})\\s!\\s', abc))"
   ]
  },
  {
   "cell_type": "code",
   "execution_count": 8,
   "metadata": {},
   "outputs": [
    {
     "name": "stdout",
     "output_type": "stream",
     "text": [
      "'is_a: GO:1902494 ! catalytic complex'\n"
     ]
    }
   ],
   "source": [
    "print('\\'' + abc + '\\'')"
   ]
  },
  {
   "cell_type": "code",
   "execution_count": 10,
   "metadata": {},
   "outputs": [],
   "source": [
    "re.match('abc', 'dabc')"
   ]
  },
  {
   "cell_type": "code",
   "execution_count": null,
   "metadata": {},
   "outputs": [],
   "source": []
  }
 ],
 "metadata": {
  "kernelspec": {
   "display_name": "Python 3",
   "language": "python",
   "name": "python3"
  },
  "language_info": {
   "codemirror_mode": {
    "name": "ipython",
    "version": 3
   },
   "file_extension": ".py",
   "mimetype": "text/x-python",
   "name": "python",
   "nbconvert_exporter": "python",
   "pygments_lexer": "ipython3",
   "version": "3.7.3"
  }
 },
 "nbformat": 4,
 "nbformat_minor": 2
}
