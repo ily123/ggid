{
 "cells": [
  {
   "cell_type": "code",
   "execution_count": 1,
   "metadata": {},
   "outputs": [],
   "source": [
    "import onto\n",
    "import similarity\n",
    "import importlib\n",
    "import re\n",
    "import time\n",
    "import diffusion\n",
    "import cross_validation\n",
    "\n",
    "import pandas as pd\n",
    "import numpy as np\n",
    "import scipy\n",
    "import cProfile"
   ]
  },
  {
   "cell_type": "code",
   "execution_count": 2,
   "metadata": {},
   "outputs": [],
   "source": [
    "def reload_my_modules():\n",
    "    \"\"\"Re-import my modules into the IPython shell.\"\"\"\n",
    "    importlib.reload(onto)\n",
    "    importlib.reload(similarity)\n",
    "    importlib.reload(diffusion)\n",
    "    importlib.reload(cross_validation)"
   ]
  },
  {
   "cell_type": "code",
   "execution_count": 3,
   "metadata": {},
   "outputs": [],
   "source": [
    "# if you change module code, run this cell to reimport code into nb\n",
    "reload_my_modules()"
   ]
  },
  {
   "cell_type": "code",
   "execution_count": 4,
   "metadata": {},
   "outputs": [
    {
     "name": "stderr",
     "output_type": "stream",
     "text": [
      "/home/xyz/Documents/CodeRepos/envs/ggid/lib/python3.6/site-packages/IPython/core/interactiveshell.py:3263: DtypeWarning: Columns (15) have mixed types.Specify dtype option on import or set low_memory=False.\n",
      "  if (await self.run_code(code, result,  async_=asy)):\n"
     ]
    },
    {
     "name": "stdout",
     "output_type": "stream",
     "text": [
      "166320\n"
     ]
    }
   ],
   "source": [
    "# load human go term annotations\n",
    "fp = 'data/goa_human.gaf'\n",
    "corpus = onto.Annotations(fp)\n",
    "corpus.filter(keep_namespace=\"P\")\n",
    "print(len(corpus.annotations))"
   ]
  },
  {
   "cell_type": "code",
   "execution_count": 5,
   "metadata": {},
   "outputs": [
    {
     "name": "stdout",
     "output_type": "stream",
     "text": [
      "7.04152774810791\n"
     ]
    },
    {
     "name": "stderr",
     "output_type": "stream",
     "text": [
      "/home/xyz/Documents/CodeRepos/ggid/onto.py:402: RuntimeWarning: divide by zero encountered in log10\n",
      "  specificity = -1 * np.log10(full_count / full_count.sum())\n"
     ]
    }
   ],
   "source": [
    "t0 = time.time()\n",
    "# load Gene Ontology of terms\n",
    "fp = 'data/go-basic.obo'\n",
    "ontology = onto.GoGraph(obo_fp = fp)\n",
    "ontology.parse_ontology()\n",
    "# Calculate specificity of each term give then annotation corpus\n",
    "term_specificity = ontology.calculate_term_specificity(corpus)\n",
    "ontology.assign_term_specificity(term_specificity)\n",
    "print(time.time() - t0)"
   ]
  },
  {
   "cell_type": "code",
   "execution_count": 6,
   "metadata": {},
   "outputs": [
    {
     "data": {
      "text/html": [
       "<div>\n",
       "<style scoped>\n",
       "    .dataframe tbody tr th:only-of-type {\n",
       "        vertical-align: middle;\n",
       "    }\n",
       "\n",
       "    .dataframe tbody tr th {\n",
       "        vertical-align: top;\n",
       "    }\n",
       "\n",
       "    .dataframe thead th {\n",
       "        text-align: right;\n",
       "    }\n",
       "</style>\n",
       "<table border=\"1\" class=\"dataframe\">\n",
       "  <thead>\n",
       "    <tr style=\"text-align: right;\">\n",
       "      <th></th>\n",
       "      <th>Unnamed: 0</th>\n",
       "      <th>gene_symbol</th>\n",
       "      <th>gene_synonym</th>\n",
       "      <th>uniprot</th>\n",
       "    </tr>\n",
       "  </thead>\n",
       "  <tbody>\n",
       "    <tr>\n",
       "      <th>0</th>\n",
       "      <td>0</td>\n",
       "      <td>AKT1</td>\n",
       "      <td>AKT1</td>\n",
       "      <td>P31749</td>\n",
       "    </tr>\n",
       "    <tr>\n",
       "      <th>1</th>\n",
       "      <td>1</td>\n",
       "      <td>AKT2</td>\n",
       "      <td>AKT2</td>\n",
       "      <td>P31751</td>\n",
       "    </tr>\n",
       "    <tr>\n",
       "      <th>2</th>\n",
       "      <td>2</td>\n",
       "      <td>AKT3</td>\n",
       "      <td>AKT3</td>\n",
       "      <td>Q9Y243</td>\n",
       "    </tr>\n",
       "    <tr>\n",
       "      <th>3</th>\n",
       "      <td>3</td>\n",
       "      <td>CDC42BPA</td>\n",
       "      <td>MRCKA</td>\n",
       "      <td>Q5VT25</td>\n",
       "    </tr>\n",
       "    <tr>\n",
       "      <th>4</th>\n",
       "      <td>4</td>\n",
       "      <td>CDC42BPB</td>\n",
       "      <td>MRCKB</td>\n",
       "      <td>Q9Y5S2</td>\n",
       "    </tr>\n",
       "  </tbody>\n",
       "</table>\n",
       "</div>"
      ],
      "text/plain": [
       "   Unnamed: 0 gene_symbol gene_synonym uniprot\n",
       "0           0        AKT1         AKT1  P31749\n",
       "1           1        AKT2         AKT2  P31751\n",
       "2           2        AKT3         AKT3  Q9Y243\n",
       "3           3    CDC42BPA        MRCKA  Q5VT25\n",
       "4           4    CDC42BPB        MRCKB  Q9Y5S2"
      ]
     },
     "execution_count": 6,
     "metadata": {},
     "output_type": "execute_result"
    }
   ],
   "source": [
    "# load list of human kinases\n",
    "# these are the kinases we want to build the network for\n",
    "kinases = pd.read_csv('data/list_of_human_kinases.csv')\n",
    "kinases.head()"
   ]
  },
  {
   "cell_type": "code",
   "execution_count": 7,
   "metadata": {},
   "outputs": [
    {
     "name": "stdout",
     "output_type": "stream",
     "text": [
      "# kinases: 513\n",
      "# kinases, post-filter: 327\n",
      "similarity matrix for 327 kinases constructed in 48.19 sec\n"
     ]
    }
   ],
   "source": [
    "# set up similarity calculator\n",
    "# we are building a network where kinases with similar go terms are connected\n",
    "\n",
    "t0 = time.time()\n",
    "kinase_similarity = similarity.Calculator(annotations = corpus,\n",
    "                                    ontology=ontology, \n",
    "                                    proteins=kinases.gene_symbol)\n",
    "\n",
    "# filter out misnamed and under annotated kinases\n",
    "print(\"# kinases:\", len(kinase_similarity.proteins))\n",
    "filtered_out = kinase_similarity.filter_proteins(min_annotations=10)\n",
    "print(\"# kinases, post-filter:\", len(kinase_similarity.proteins))\n",
    "\n",
    "#calculate similarity of go terms between each kinase pair\n",
    "kinase_similarity.calculate_similarity()\n",
    "print(\"similarity matrix for %d kinases constructed in %3.2f sec\" % (len(kinase_similarity.proteins), time.time() - t0))"
   ]
  },
  {
   "cell_type": "code",
   "execution_count": 8,
   "metadata": {},
   "outputs": [],
   "source": [
    "# load similarity scores and protein names into network container\n",
    "network = similarity.Network(protein_similarity=kinase_similarity.protein_similarity,\n",
    "                             proteins=kinase_similarity.proteins)\n",
    "\n",
    "# the two lines below convert similarity matrix into a an adjacency matrix (ie network of 1s and 0s)\n",
    "# we do this in the cross-validation block below and create several networks\n",
    "#network.threshold_matrix(n=5)\n",
    "#network.enforce_network_symmetry()"
   ]
  },
  {
   "cell_type": "code",
   "execution_count": 10,
   "metadata": {},
   "outputs": [
    {
     "name": "stdout",
     "output_type": "stream",
     "text": [
      "not in network: ['TAF1']\n",
      "-----loo cross-validation-----\n",
      "keep top N edges per protein\n",
      "1 edges, auc = 0.781\n",
      "2 edges, auc = 0.819\n",
      "3 edges, auc = 0.853\n",
      "5 edges, auc = 0.845\n",
      "10 edges, auc = 0.832\n",
      "15 edges, auc = 0.850\n",
      "19 edges, auc = 0.860\n",
      "25 edges, auc = 0.894\n",
      "30 edges, auc = 0.902\n",
      "35 edges, auc = 0.892\n",
      "50 edges, auc = 0.867\n"
     ]
    }
   ],
   "source": [
    "# do some edge num cross-validation\n",
    "\n",
    "# positive set -- p53 kinases\n",
    "# We are testing whether these proteins cluster in the kinase network \n",
    "# which they should because they phosphorylate the same protein, ie have similar go terms.\n",
    "# If they cluster, then diffusion should predict left out positives in LOO validation.\n",
    "p53_kin = ['CSNK2A1', 'CDK1', 'PRKDC', 'CDK2', 'MAPK8', 'CDK7',\n",
    "           'CSNK1D', 'MAPK9', 'EIF2AK2', 'CHEK1', 'CHEK2', 'GSK3B',\n",
    "           'MAPK1', 'PLK3','AURKA', 'TAF1', 'RPS6KA3', 'CDK9', 'CDK5',\n",
    "           'DYRK2', 'HIPK2', 'IKBKB', 'TTK', 'AURKB', 'CSNK1A1', 'RPS6KA1']\n",
    "\n",
    "p53_kin_exist = [p for p in p53_kin if p in network.proteins]\n",
    "print(\"not in network:\", [p for p in p53_kin if p not in network.proteins])\n",
    "\n",
    "print(\"-----loo cross-validation-----\")\n",
    "print(\"keep top N edges per protein\")\n",
    "for edges in [1,2,3,5,10, 15, int(np.ceil(np.sqrt(len(network.proteins)))), 25, 30, 35, 50]:\n",
    "    network.threshold_matrix(n = edges)\n",
    "    network.enforce_network_symmetry()\n",
    "    loo = cross_validation.LOOValitation(network, p53_kin_exist)\n",
    "    res = loo.run_validation()\n",
    "    y,x, auc = loo.get_roc()\n",
    "    print(\"%d edges, auc = %1.3f\" % (edges, auc))"
   ]
  },
  {
   "cell_type": "markdown",
   "metadata": {},
   "source": [
    "### Interpretation\n",
    "\n",
    "The network seems to work. It clusters proteins with similar go terms. So we can use label diffusion to spread novel labels among connected proteins.\n",
    "\n",
    "Most of the networks yeild LOO AUC .85 range, and the fewer edges you keep, the easier it is to interpret the results. So just go with 5 edges, and export the network for the front-end tool."
   ]
  },
  {
   "cell_type": "code",
   "execution_count": 14,
   "metadata": {},
   "outputs": [],
   "source": [
    "network.threshold_matrix(n=5)\n",
    "network.enforce_network_symmetry()\n",
    "network.save_as_pickle(\"network/kinase_matrix.pkl\")"
   ]
  }
 ],
 "metadata": {
  "kernelspec": {
   "display_name": "Python 3",
   "language": "python",
   "name": "python3"
  },
  "language_info": {
   "codemirror_mode": {
    "name": "ipython",
    "version": 3
   },
   "file_extension": ".py",
   "mimetype": "text/x-python",
   "name": "python",
   "nbconvert_exporter": "python",
   "pygments_lexer": "ipython3",
   "version": "3.6.9"
  }
 },
 "nbformat": 4,
 "nbformat_minor": 4
}
